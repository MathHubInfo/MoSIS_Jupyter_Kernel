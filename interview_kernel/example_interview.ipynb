{
 "cells": [
  {
   "cell_type": "markdown",
   "metadata": {},
   "source": [
    "**Hello, user! I am TheInterview, your partial differential equations and simulations expert.**\n",
    "Let's set up a model and simulation together.\n",
    "\n",
    "To get explanations, enter `explain <optional keyword>`. \n",
    "To see a recap of what we know so far, enter `recap <optional keyword>`. \n",
    "To interactively visualize ther current theory graph, enter `tgwiev` or `tgview mpd`. \n",
    "Otherwise, you can always answer with LaTeX-type input.\n",
    "\n",
    "\n",
    "How many dimensions does your model have?\n",
    "\n",
    "\n",
    "I am just assuming it's 1, since that is all we can currently handle.\n",
    "\n",
    "\n",
    "\n",
    "\n",
    "What is the domain you would like to simulate for?     Ω : type ❘ = [?;?], e.g. \\Omega = [0.0;1.0]\n",
    "By the way, you can always try and use LaTeX-type input.\n"
   ]
  },
  {
   "cell_type": "code",
   "execution_count": 1,
   "metadata": {},
   "outputs": [
    {
     "name": "stdout",
     "output_type": "stream",
     "text": [
      "http://localhost:55537/:interview/new?decl=d&cont=http%3A//mathhub.info/MitM/smglom/calculus/differentialequations%3Fephdomain\n",
      "\n",
      "Ω = [0.0;1.0]❙\n",
      "http://localhost:55537/:interview/infer?cont=http%3A//mathhub.info/MitM/smglom/calculus/differentialequations%3Fephdomain\n",
      "\n",
      "Ω\n",
      "http://localhost:55537/:query\n",
      "\n",
      "<function name=\"presentDecl\" param=\"xml\"><literal><uri path=\"http://mathhub.info/MitM/smglom/calculus/differentialequations?ephdomain\"/></literal></function>\n",
      "http://localhost:55537/:interview/new?view=http%3A//mathhub.info/MitM/smglom/calculus/differentialequations%3FephdomainASmDomain&from=http%3A//mathhub.info/MitM/smglom/calculus/differentialequations%3FmDomain&to=http%3A//mathhub.info/MitM/smglom/calculus/differentialequations%3Fephdomain\n",
      "http://localhost:55537/:interview/new?decl=d&cont=http%3A//mathhub.info/MitM/smglom/calculus/differentialequations%3FephdomainASmDomain\n",
      "\n",
      "domain = Ω❙\n",
      "http://localhost:55537/:interview/new?decl=d&cont=http%3A//mathhub.info/MitM/smglom/calculus/differentialequations%3FephdomainASmDomain\n",
      "\n",
      "boundary = Ω❙\n"
     ]
    },
    {
     "data": {
      "text/markdown": [
       "we will just assume that the variable is called x for now.\n",
       "\n",
       "\n",
       "\n",
       "Which variable(s) are you looking for? / What are the unknowns in your model?  u : Ω ⟶ ??,  e.g., u : Ω ⟶ ℝ ?\n"
      ]
     },
     "metadata": {},
     "output_type": "display_data"
    }
   ],
   "source": [
    "Ω = [0.0;1.0]\n"
   ]
  },
  {
   "cell_type": "code",
   "execution_count": 2,
   "metadata": {},
   "outputs": [
    {
     "name": "stdout",
     "output_type": "stream",
     "text": [
      "http://localhost:55537/:interview/new?theory=http%3A//mathhub.info/MitM/smglom/calculus/differentialequations%3FT&meta=http%3A//mathhub.info/MitM/Foundation%3FLogic\n",
      "http://localhost:55537/:interview/new?decl=d&cont=http%3A//mathhub.info/MitM/smglom/calculus/differentialequations%3FT\n",
      "\n",
      "include http://mathhub.info/MitM/Foundation?Strings❙\n",
      "http://localhost:55537/:interview/new?decl=d&cont=http%3A//mathhub.info/MitM/smglom/calculus/differentialequations%3FT\n",
      "\n",
      "include ?ephdomain❙\n",
      "http://localhost:55537/:interview/new?theory=http%3A//mathhub.info/MitM/smglom/calculus/differentialequations%3FT_to_go_to_trash&meta=http%3A//mathhub.info/MitM/Foundation%3FLogic\n",
      "http://localhost:55537/:interview/new?decl=d&cont=http%3A//mathhub.info/MitM/smglom/calculus/differentialequations%3FT_to_go_to_trash\n",
      "\n",
      "include http://mathhub.info/MitM/Foundation?Strings❙\n",
      "http://localhost:55537/:interview/new?decl=d&cont=http%3A//mathhub.info/MitM/smglom/calculus/differentialequations%3FT_to_go_to_trash\n",
      "\n",
      "include ?ephdomain❙\n",
      "http://localhost:55537/:interview/new?decl=d&cont=http%3A//mathhub.info/MitM/smglom/calculus/differentialequations%3FT_to_go_to_trash\n",
      "\n",
      "T : Ω ⟶ ℝ❙\n",
      "http://localhost:55537/:interview/infer?cont=http%3A//mathhub.info/MitM/smglom/calculus/differentialequations%3FT_to_go_to_trash\n",
      "\n",
      "T\n",
      "http://localhost:55537/:query\n",
      "\n",
      "<function name=\"presentDecl\" param=\"xml\"><literal><uri path=\"http://mathhub.info/MitM/smglom/calculus/differentialequations?T_to_go_to_trash\"/></literal></function>\n",
      "http://localhost:55537/:interview/new?decl=d&cont=http%3A//mathhub.info/MitM/smglom/calculus/differentialequations%3FT\n",
      "\n",
      "myUnkType = Ω ⟶ ℝ❙\n",
      "http://localhost:55537/:interview/new?view=http%3A//mathhub.info/MitM/smglom/calculus/differentialequations%3FTASmUnknown&from=http%3A//mathhub.info/MitM/smglom/calculus/differentialequations%3FmUnknown&to=http%3A//mathhub.info/MitM/smglom/calculus/differentialequations%3FT\n",
      "http://localhost:55537/:interview/new?decl=d&cont=http%3A//mathhub.info/MitM/smglom/calculus/differentialequations%3FTASmUnknown\n",
      "\n",
      "include ?mDomain = ?ephdomainASmDomain❙\n",
      "http://localhost:55537/:interview/new?decl=d&cont=http%3A//mathhub.info/MitM/smglom/calculus/differentialequations%3FTASmUnknown\n",
      "\n",
      "ucodomain = ℝ❙\n",
      "http://localhost:55537/:interview/new?decl=d&cont=http%3A//mathhub.info/MitM/smglom/calculus/differentialequations%3FTASmUnknown\n",
      "\n",
      "unknowntype = myUnkType❙\n"
     ]
    },
    {
     "data": {
      "text/markdown": [
       "Ok, T : Ω ⟶ ℝ\n",
       "\n",
       "\n",
       "\n",
       "Would you like to name additional parameters like constants or functions (that are independent of your             unknowns)?  c : ℝ = ? or f : Ω ⟶ ℝ = ?\n"
      ]
     },
     "metadata": {},
     "output_type": "display_data"
    }
   ],
   "source": [
    "T : Ω ⟶ ℝ"
   ]
  },
  {
   "cell_type": "code",
   "execution_count": 3,
   "metadata": {},
   "outputs": [
    {
     "name": "stdout",
     "output_type": "stream",
     "text": [
      "http://localhost:55537/:interview/new?theory=http%3A//mathhub.info/MitM/smglom/calculus/differentialequations%3Ff&meta=http%3A//mathhub.info/MitM/Foundation%3FLogic\n",
      "http://localhost:55537/:interview/new?decl=d&cont=http%3A//mathhub.info/MitM/smglom/calculus/differentialequations%3Ff\n",
      "\n",
      "include http://mathhub.info/MitM/smglom/arithmetics?RealArithmetics❙\n",
      "http://localhost:55537/:interview/new?decl=d&cont=http%3A//mathhub.info/MitM/smglom/calculus/differentialequations%3Ff\n",
      "\n",
      "include ?ephdomain❙\n",
      "http://localhost:55537/:interview/new?decl=d&cont=http%3A//mathhub.info/MitM/smglom/calculus/differentialequations%3Ff\n",
      "\n",
      "include http://mathhub.info/MitM/Foundation?Math❙\n",
      "http://localhost:55537/:interview/new?decl=d&cont=http%3A//mathhub.info/MitM/smglom/calculus/differentialequations%3Ff\n",
      "\n",
      "f = [ x : Ω] x❘ role Quantity❙\n",
      "http://localhost:55537/:query\n",
      "\n",
      "<function name=\"presentDecl\" param=\"xml\"><literal><uri path=\"http://mathhub.info/MitM/smglom/calculus/differentialequations?f\"/></literal></function>\n",
      "http://localhost:55537/:interview/infer?cont=http%3A//mathhub.info/MitM/smglom/calculus/differentialequations%3Ff\n",
      "\n",
      "f\n",
      "http://localhost:55537/:interview/new?view=http%3A//mathhub.info/MitM/smglom/calculus/differentialequations%3FfASmParameter&from=http%3A//mathhub.info/MitM/smglom/calculus/differentialequations%3FmParameter&to=http%3A//mathhub.info/MitM/smglom/calculus/differentialequations%3Ff\n",
      "http://localhost:55537/:interview/new?decl=d&cont=http%3A//mathhub.info/MitM/smglom/calculus/differentialequations%3FfASmParameter\n",
      "\n",
      "include ?mDomain = ?ephdomainASmDomain❙\n",
      "http://localhost:55537/:interview/new?decl=d&cont=http%3A//mathhub.info/MitM/smglom/calculus/differentialequations%3FfASmParameter\n",
      "\n",
      "include ?mUnknown = ?TASmUnknown❙\n",
      "http://localhost:55537/:interview/new?decl=d&cont=http%3A//mathhub.info/MitM/smglom/calculus/differentialequations%3FfASmParameter\n",
      "\n",
      "ptype = { : Ω } Ω❙\n",
      "http://localhost:55537/:interview/new?decl=d&cont=http%3A//mathhub.info/MitM/smglom/calculus/differentialequations%3FfASmParameter\n",
      "\n",
      "param = f❙\n"
     ]
    },
    {
     "data": {
      "text/markdown": [
       "Ok, f = [ x : Ω] x\n",
       "\n",
       "\n",
       "\n",
       "Would you like to declare more parameters?\n"
      ]
     },
     "metadata": {},
     "output_type": "display_data"
    }
   ],
   "source": [
    "f = x"
   ]
  },
  {
   "cell_type": "code",
   "execution_count": 4,
   "metadata": {},
   "outputs": [
    {
     "name": "stdout",
     "output_type": "stream",
     "text": [
      "http://localhost:55537/:interview/new?theory=http%3A//mathhub.info/MitM/smglom/calculus/differentialequations%3F%CE%B1&meta=http%3A//mathhub.info/MitM/Foundation%3FLogic\n",
      "http://localhost:55537/:interview/new?decl=d&cont=http%3A//mathhub.info/MitM/smglom/calculus/differentialequations%3F%CE%B1\n",
      "\n",
      "include http://mathhub.info/MitM/smglom/arithmetics?RealArithmetics❙\n",
      "http://localhost:55537/:interview/new?decl=d&cont=http%3A//mathhub.info/MitM/smglom/calculus/differentialequations%3F%CE%B1\n",
      "\n",
      "include ?ephdomain❙\n",
      "http://localhost:55537/:interview/new?decl=d&cont=http%3A//mathhub.info/MitM/smglom/calculus/differentialequations%3F%CE%B1\n",
      "\n",
      "include http://mathhub.info/MitM/Foundation?Math❙\n",
      "http://localhost:55537/:interview/new?decl=d&cont=http%3A//mathhub.info/MitM/smglom/calculus/differentialequations%3F%CE%B1\n",
      "\n",
      "include ?f❙\n",
      "http://localhost:55537/:interview/new?decl=d&cont=http%3A//mathhub.info/MitM/smglom/calculus/differentialequations%3F%CE%B1\n",
      "\n",
      "α = [ x : Ω] -5.0❘ role Quantity❙\n",
      "http://localhost:55537/:query\n",
      "\n",
      "<function name=\"presentDecl\" param=\"xml\"><literal><uri path=\"http://mathhub.info/MitM/smglom/calculus/differentialequations?α\"/></literal></function>\n",
      "http://localhost:55537/:interview/infer?cont=http%3A//mathhub.info/MitM/smglom/calculus/differentialequations%3F%CE%B1\n",
      "\n",
      "α\n",
      "http://localhost:55537/:interview/new?view=http%3A//mathhub.info/MitM/smglom/calculus/differentialequations%3F%CE%B1ASmParameter&from=http%3A//mathhub.info/MitM/smglom/calculus/differentialequations%3FmParameter&to=http%3A//mathhub.info/MitM/smglom/calculus/differentialequations%3F%CE%B1\n",
      "http://localhost:55537/:interview/new?decl=d&cont=http%3A//mathhub.info/MitM/smglom/calculus/differentialequations%3F%CE%B1ASmParameter\n",
      "\n",
      "include ?mDomain = ?ephdomainASmDomain❙\n",
      "http://localhost:55537/:interview/new?decl=d&cont=http%3A//mathhub.info/MitM/smglom/calculus/differentialequations%3F%CE%B1ASmParameter\n",
      "\n",
      "include ?mUnknown = ?TASmUnknown❙\n",
      "http://localhost:55537/:interview/new?decl=d&cont=http%3A//mathhub.info/MitM/smglom/calculus/differentialequations%3F%CE%B1ASmParameter\n",
      "\n",
      "include ?mParameter = ?fASmParameter❙\n",
      "http://localhost:55537/:interview/new?decl=d&cont=http%3A//mathhub.info/MitM/smglom/calculus/differentialequations%3F%CE%B1ASmParameter\n",
      "\n",
      "ptype = { : Ω } ℝ❙\n",
      "http://localhost:55537/:interview/new?decl=d&cont=http%3A//mathhub.info/MitM/smglom/calculus/differentialequations%3F%CE%B1ASmParameter\n",
      "\n",
      "param = α❙\n"
     ]
    },
    {
     "data": {
      "text/markdown": [
       "Ok, α = [ x : Ω] -5.0\n",
       "\n",
       "\n",
       "\n",
       "Would you like to declare more parameters?\n"
      ]
     },
     "metadata": {},
     "output_type": "display_data"
    }
   ],
   "source": [
    "\\alpha = -5.0"
   ]
  },
  {
   "cell_type": "code",
   "execution_count": 5,
   "metadata": {},
   "outputs": [
    {
     "data": {
      "text/markdown": []
     },
     "metadata": {},
     "output_type": "display_data"
    }
   ],
   "source": [
    "y"
   ]
  },
  {
   "cell_type": "code",
   "execution_count": 6,
   "metadata": {
    "scrolled": true
   },
   "outputs": [
    {
     "name": "stdout",
     "output_type": "stream",
     "text": [
      "http://localhost:55537/:interview/new?theory=http%3A//mathhub.info/MitM/smglom/calculus/differentialequations%3Fk&meta=http%3A//mathhub.info/MitM/Foundation%3FLogic\n",
      "http://localhost:55537/:interview/new?decl=d&cont=http%3A//mathhub.info/MitM/smglom/calculus/differentialequations%3Fk\n",
      "\n",
      "include http://mathhub.info/MitM/smglom/arithmetics?RealArithmetics❙\n",
      "http://localhost:55537/:interview/new?decl=d&cont=http%3A//mathhub.info/MitM/smglom/calculus/differentialequations%3Fk\n",
      "\n",
      "include ?ephdomain❙\n",
      "http://localhost:55537/:interview/new?decl=d&cont=http%3A//mathhub.info/MitM/smglom/calculus/differentialequations%3Fk\n",
      "\n",
      "include http://mathhub.info/MitM/Foundation?Math❙\n",
      "http://localhost:55537/:interview/new?decl=d&cont=http%3A//mathhub.info/MitM/smglom/calculus/differentialequations%3Fk\n",
      "\n",
      "include ?f❙\n",
      "http://localhost:55537/:interview/new?decl=d&cont=http%3A//mathhub.info/MitM/smglom/calculus/differentialequations%3Fk\n",
      "\n",
      "include ?α❙\n",
      "http://localhost:55537/:interview/new?decl=d&cont=http%3A//mathhub.info/MitM/smglom/calculus/differentialequations%3Fk\n",
      "\n",
      "k = [ x : Ω] x · x❘ role Quantity❙\n"
     ]
    },
    {
     "name": "stderr",
     "output_type": "stream",
     "text": [
      "I did not catch that. Could you please rephrase?\n",
      "Details: MMT server error: unbound token: ·. <div xmlns=\"http://www.w3.org/1999/xhtml\">\n",
      "  <div>\n",
      "    <div class=\"error\">\n",
      "      <div><span class=\"name\">info.kwarc.mmt.api.SourceError</span> of level <span class=\"level\">2</span></div>\n",
      "      <div class=\"message\">unbound token: &#183;</div>\n",
      "      <div>source error (object-parser) at http://mathhub.info/MitM/smglom/calculus/differentialequations#15.0.15:15.0.15\n",
      "\n",
      "</div>\n",
      "      <div class=\"stacktrace\">\n",
      "        <div class=\"stacktraceline\">\n",
      "          <span>info.kwarc.mmt.api.parser.NotationBasedParser.makeError(NotationBasedParser.scala:93)</span>\n",
      "        </div>\n",
      "        <div class=\"stacktraceline\">\n",
      "          <span>info.kwarc.mmt.api.parser.NotationBasedParser.makeTerm(NotationBasedParser.scala:321)</span>\n",
      "        </div>\n",
      "        <div class=\"stacktraceline\">\n",
      "          <span>info.kwarc.mmt.api.parser.NotationBasedParser.$anonfun$makeTerm$5(NotationBasedParser.scala:345)</span>\n",
      "        </div>\n",
      "        <div class=\"stacktraceline\">\n",
      "          <span>scala.collection.immutable.List.map(List.scala:287)</span>\n",
      "        </div>\n",
      "        <div class=\"stacktraceline\">\n",
      "          <span>info.kwarc.mmt.api.parser.NotationBasedParser.makeTerm(NotationBasedParser.scala:345)</span>\n",
      "        </div>\n",
      "        <div class=\"stacktraceline\">\n",
      "          <span>info.kwarc.mmt.api.parser.NotationBasedParser.doFoundContent$1(NotationBasedParser.scala:437)</span>\n",
      "        </div>\n",
      "        <div class=\"stacktraceline\">\n",
      "          <span>info.kwarc.mmt.api.parser.NotationBasedParser.$anonfun$makeTermFromMatchedList$14(NotationBasedParser.scala:496)</span>\n",
      "        </div>\n",
      "        <div class=\"stacktraceline\">\n",
      "          <span>info.kwarc.mmt.api.parser.NotationBasedParser.$anonfun$makeTermFromMatchedList$14$adapted(NotationBasedParser.scala:493)</span>\n",
      "        </div>\n",
      "        <div class=\"stacktraceline\">\n",
      "          <span>scala.collection.immutable.List.foreach(List.scala:389)</span>\n",
      "        </div>\n",
      "        <div class=\"stacktraceline\">\n",
      "          <span>info.kwarc.mmt.api.parser.NotationBasedParser.makeTermFromMatchedList(NotationBasedParser.scala:493)</span>\n",
      "        </div>\n",
      "        <div class=\"stacktraceline\">\n",
      "          <span>info.kwarc.mmt.api.parser.NotationBasedParser.makeTerm(NotationBasedParser.scala:329)</span>\n",
      "        </div>\n",
      "        <div class=\"stacktraceline\">\n",
      "          <span>info.kwarc.mmt.api.parser.NotationBasedParser.makeTerm(NotationBasedParser.scala:335)</span>\n",
      "        </div>\n",
      "        <div class=\"stacktraceline\">\n",
      "          <span>info.kwarc.mmt.api.parser.NotationBasedParser.$anonfun$apply$10(NotationBasedParser.scala:214)</span>\n",
      "        </div>\n",
      "        <div class=\"stacktraceline\">\n",
      "          <span>info.kwarc.mmt.api.frontend.Logger.logGroup(Log.scala:34)</span>\n",
      "        </div>\n",
      "        <div class=\"stacktraceline\">\n",
      "          <span>info.kwarc.mmt.api.frontend.Logger.logGroup$(Log.scala:31)</span>\n",
      "        </div>\n",
      "        <div class=\"stacktraceline\">\n",
      "          <span>info.kwarc.mmt.api.parser.NotationBasedParser.logGroup(NotationBasedParser.scala:69)</span>\n",
      "        </div>\n",
      "        <div class=\"stacktraceline\">\n",
      "          <span>info.kwarc.mmt.api.parser.NotationBasedParser.apply(NotationBasedParser.scala:214)</span>\n",
      "        </div>\n",
      "        <div class=\"stacktraceline\">\n",
      "          <span>info.kwarc.mmt.api.parser.KeywordBasedParser.puCont(StructureParser.scala:141)</span>\n",
      "        </div>\n",
      "        <div class=\"stacktraceline\">\n",
      "          <span>info.kwarc.mmt.api.parser.KeywordBasedParser.readParsedObject(StructureParser.scala:287)</span>\n",
      "        </div>\n",
      "        <div class=\"stacktraceline\">\n",
      "          <span>info.kwarc.mmt.api.parser.KeywordBasedParser.doComponent(StructureParser.scala:292)</span>\n",
      "        </div>\n",
      "        <div class=\"stacktraceline\">\n",
      "          <span>info.kwarc.mmt.api.parser.KeywordBasedParser.readConstant(StructureParser.scala:880)</span>\n",
      "        </div>\n",
      "        <div class=\"stacktraceline\">\n",
      "          <span>info.kwarc.mmt.api.parser.KeywordBasedParser.readInModuleAux(StructureParser.scala:630)</span>\n",
      "        </div>\n",
      "        <div class=\"stacktraceline\">\n",
      "          <span>info.kwarc.mmt.api.parser.KeywordBasedParser.readInModule(StructureParser.scala:457)</span>\n",
      "        </div>\n",
      "        <div class=\"stacktraceline\">\n",
      "          <span>info.kwarc.mmt.interviews.InterviewServer.parseDecl(InterviewServer.scala:102)</span>\n",
      "        </div>\n",
      "        <div class=\"stacktraceline\">\n",
      "          <span>info.kwarc.mmt.interviews.InterviewServer.apply(InterviewServer.scala:50)</span>\n",
      "        </div>\n",
      "        <div class=\"stacktraceline\">\n",
      "          <span>info.kwarc.mmt.api.web.Server.resolveExtension(Server.scala:95)</span>\n",
      "        </div>\n",
      "        <div class=\"stacktraceline\">\n",
      "          <span>info.kwarc.mmt.api.web.Server.resolve(Server.scala:76)</span>\n",
      "        </div>\n",
      "        <div class=\"stacktraceline\">\n",
      "          <span>info.kwarc.mmt.api.web.Server.handleRequest(Server.scala:53)</span>\n",
      "        </div>\n",
      "        <div class=\"stacktraceline\">\n",
      "          <span>info.kwarc.mmt.api.web.TiscafServerImplementation$RequestHandler$$anon$1.act(TiscafServerImplementation.scala:49)</span>\n",
      "        </div>\n",
      "        <div class=\"stacktraceline\">\n",
      "          <span>tiscaf.HSimpleLet.aact(HLet.scala:166)</span>\n",
      "        </div>\n",
      "        <div class=\"stacktraceline\">\n",
      "          <span>tiscaf.HSimpleLet.aact$(HLet.scala:165)</span>\n",
      "        </div>\n",
      "        <div class=\"stacktraceline\">\n",
      "          <span>info.kwarc.mmt.api.web.TiscafServerImplementation$RequestHandler$$anon$1.aact(TiscafServerImplementation.scala:47)</span>\n",
      "        </div>\n",
      "        <div class=\"stacktraceline\">\n",
      "          <span>tiscaf.HAcceptor.talk(HAcceptor.scala:246)</span>\n",
      "        </div>\n",
      "        <div class=\"stacktraceline\">\n",
      "          <span>tiscaf.HSimplePeer.doTalkItself$1(HPeer.scala:101)</span>\n",
      "        </div>\n",
      "        <div class=\"stacktraceline\">\n",
      "          <span>tiscaf.HSimplePeer.$anonfun$readChannel$1(HPeer.scala:114)</span>\n",
      "        </div>\n",
      "        <div class=\"stacktraceline\">\n",
      "          <span>scala.runtime.java8.JFunction0$mcV$sp.apply(JFunction0$mcV$sp.java:12)</span>\n",
      "        </div>\n",
      "        <div class=\"stacktraceline\">\n",
      "          <span>scala.concurrent.Future$.$anonfun$apply$1(Future.scala:653)</span>\n",
      "        </div>\n",
      "        <div class=\"stacktraceline\">\n",
      "          <span>scala.util.Success.$anonfun$map$1(Try.scala:251)</span>\n",
      "        </div>\n",
      "        <div class=\"stacktraceline\">\n",
      "          <span>scala.util.Success.map(Try.scala:209)</span>\n",
      "        </div>\n",
      "        <div class=\"stacktraceline\">\n",
      "          <span>scala.concurrent.Future.$anonfun$map$1(Future.scala:287)</span>\n",
      "        </div>\n",
      "        <div class=\"stacktraceline\">\n",
      "          <span>scala.concurrent.impl.Promise.liftedTree1$1(Promise.scala:29)</span>\n",
      "        </div>\n",
      "        <div class=\"stacktraceline\">\n",
      "          <span>scala.concurrent.impl.Promise.$anonfun$transform$1(Promise.scala:29)</span>\n",
      "        </div>\n",
      "        <div class=\"stacktraceline\">\n",
      "          <span>scala.concurrent.impl.CallbackRunnable.run(Promise.scala:60)</span>\n",
      "        </div>\n",
      "        <div class=\"stacktraceline\">\n",
      "          <span>tiscaf.sync.SyncQuExecutionContext$$anon$1.run(SyncQuExecutionContext.scala:69)</span>\n",
      "        </div>\n",
      "      </div>\n",
      "    </div>\n",
      "  </div>\n",
      "</div>\n",
      "\n"
     ]
    }
   ],
   "source": [
    "k = x \\cdot x"
   ]
  },
  {
   "cell_type": "code",
   "execution_count": 7,
   "metadata": {},
   "outputs": [
    {
     "data": {
      "text/markdown": [
       "f = x\n",
       "α = -5.0\n",
       "\n",
       "\n",
       "\n",
       "Let's talk about your partial differential equation(s). What do they look like? Δu = 0.0, or laplace_operator Ω ℝ u = f ?\n"
      ]
     },
     "metadata": {},
     "output_type": "display_data"
    }
   ],
   "source": [
    "n"
   ]
  },
  {
   "cell_type": "code",
   "execution_count": 8,
   "metadata": {
    "scrolled": true
   },
   "outputs": [
    {
     "name": "stdout",
     "output_type": "stream",
     "text": [
      "http://localhost:55537/:interview/new?theory=http%3A//mathhub.info/MitM/smglom/calculus/differentialequations%3Fephpde1&meta=http%3A//mathhub.info/MitM/Foundation%3FLogic\n",
      "http://localhost:55537/:interview/new?decl=d&cont=http%3A//mathhub.info/MitM/smglom/calculus/differentialequations%3Fephpde1\n",
      "\n",
      "include ?mDifferentialOperators❙\n",
      "http://localhost:55537/:interview/new?decl=d&cont=http%3A//mathhub.info/MitM/smglom/calculus/differentialequations%3Fephpde1\n",
      "\n",
      "include ?T❙\n",
      "http://localhost:55537/:interview/new?decl=d&cont=http%3A//mathhub.info/MitM/smglom/calculus/differentialequations%3Fephpde1\n",
      "\n",
      "include ?f❙\n",
      "http://localhost:55537/:interview/new?decl=d&cont=http%3A//mathhub.info/MitM/smglom/calculus/differentialequations%3Fephpde1\n",
      "\n",
      "include ?α❙\n",
      "http://localhost:55537/:interview/infer?cont=http%3A//mathhub.info/MitM/smglom/calculus/differentialequations%3Fephpde1\n",
      "\n",
      " α\n",
      "http://localhost:55537/:interview/new?decl=d&cont=http%3A//mathhub.info/MitM/smglom/calculus/differentialequations%3Fephpde1\n",
      "\n",
      "include ?T❙\n",
      "http://localhost:55537/:interview/new?decl=d&cont=http%3A//mathhub.info/MitM/smglom/calculus/differentialequations%3Fephpde1\n",
      "\n",
      "include ?f❙\n",
      "http://localhost:55537/:interview/new?decl=d&cont=http%3A//mathhub.info/MitM/smglom/calculus/differentialequations%3Fephpde1\n",
      "\n",
      "include ?α❙\n",
      "http://localhost:55537/:interview/new?decl=d&cont=http%3A//mathhub.info/MitM/smglom/calculus/differentialequations%3Fephpde1\n",
      "\n",
      " mylhs =  [ anyT : Ω ⟶ ℝ ] Δ anyT ❙\n",
      "http://localhost:55537/:query\n",
      "\n",
      "<function name=\"presentDecl\" param=\"xml\"><literal><uri path=\"http://mathhub.info/MitM/smglom/calculus/differentialequations?ephpde1\"/></literal></function>\n",
      "http://localhost:55537/:interview/new?decl=d&cont=http%3A//mathhub.info/MitM/smglom/calculus/differentialequations%3Fephpde1\n",
      "\n",
      " myrhs =  α❙\n",
      "http://localhost:55537/:query\n",
      "\n",
      "<function name=\"presentDecl\" param=\"xml\"><literal><uri path=\"http://mathhub.info/MitM/smglom/calculus/differentialequations?ephpde1\"/></literal></function>\n",
      "http://localhost:55537/:interview/new?view=http%3A//mathhub.info/MitM/smglom/calculus/differentialequations%3Fephpde1ASmPDE&from=http%3A//mathhub.info/MitM/smglom/calculus/differentialequations%3FmPDE&to=http%3A//mathhub.info/MitM/smglom/calculus/differentialequations%3Fephpde1\n",
      "http://localhost:55537/:interview/new?decl=d&cont=http%3A//mathhub.info/MitM/smglom/calculus/differentialequations%3Fephpde1ASmPDE\n",
      "\n",
      "include ?mDomain = ?ephdomainASmDomain❙\n",
      "http://localhost:55537/:interview/new?decl=d&cont=http%3A//mathhub.info/MitM/smglom/calculus/differentialequations%3Fephpde1ASmPDE\n",
      "\n",
      "include ?mUnknown = ?TASmUnknown❙\n",
      "http://localhost:55537/:interview/new?decl=d&cont=http%3A//mathhub.info/MitM/smglom/calculus/differentialequations%3Fephpde1ASmPDE\n",
      "\n",
      "include ?mParameter = ?fASmParameter❙\n",
      "http://localhost:55537/:interview/new?decl=d&cont=http%3A//mathhub.info/MitM/smglom/calculus/differentialequations%3Fephpde1ASmPDE\n",
      "\n",
      "include ?mParameter = ?αASmParameter❙\n",
      "http://localhost:55537/:interview/infer?cont=http%3A//mathhub.info/MitM/smglom/calculus/differentialequations%3Fephpde1\n",
      "\n",
      "mylhs\n",
      "http://localhost:55537/:interview/infer?cont=http%3A//mathhub.info/MitM/smglom/calculus/differentialequations%3Fephpde1\n",
      "\n",
      "myrhs\n",
      "http://localhost:55537/:interview/new?decl=d&cont=http%3A//mathhub.info/MitM/smglom/calculus/differentialequations%3Fephpde1ASmPDE\n",
      "\n",
      "eqtype = ℝ❙\n",
      "http://localhost:55537/:interview/new?decl=d&cont=http%3A//mathhub.info/MitM/smglom/calculus/differentialequations%3Fephpde1ASmPDE\n",
      "\n",
      "lhs = mylhs❙\n",
      "http://localhost:55537/:interview/new?decl=d&cont=http%3A//mathhub.info/MitM/smglom/calculus/differentialequations%3Fephpde1ASmPDE\n",
      "\n",
      "rhs = myrhs❙\n",
      "http://localhost:55537/:interview/new?decl=d&cont=http%3A//mathhub.info/MitM/smglom/calculus/differentialequations%3Fephpde1ASmPDE\n",
      "\n",
      "pde = [u](mylhs u) ≐ myrhs❙\n",
      "http://localhost:55537/:query\n",
      "\n",
      "<function name=\"presentDecl\" param=\"xml\"><literal><uri path=\"http://mathhub.info/MitM/smglom/calculus/differentialequations?ephpde1\"/></literal></function>\n",
      "http://localhost:55537/:interview/new?theory=http%3A//mathhub.info/MitM/smglom/calculus/differentialequations%3Fephbcs&meta=http%3A//mathhub.info/MitM/Foundation%3FLogic\n",
      "http://localhost:55537/:interview/new?decl=d&cont=http%3A//mathhub.info/MitM/smglom/calculus/differentialequations%3Fephbcs\n",
      "\n",
      "include ?ephdomain❙\n",
      "http://localhost:55537/:interview/new?decl=d&cont=http%3A//mathhub.info/MitM/smglom/calculus/differentialequations%3Fephbcs\n",
      "\n",
      "include ?mLinearity❙\n",
      "http://localhost:55537/:interview/new?decl=d&cont=http%3A//mathhub.info/MitM/smglom/calculus/differentialequations%3Fephbcs\n",
      "\n",
      "include ?mDifferentialOperators❙\n",
      "http://localhost:55537/:interview/new?decl=d&cont=http%3A//mathhub.info/MitM/smglom/calculus/differentialequations%3Fephbcs\n",
      "\n",
      "include http://mathhub.info/MitM/smglom/arithmetics?RealArithmetics❙\n",
      "http://localhost:55537/:interview/new?decl=d&cont=http%3A//mathhub.info/MitM/smglom/calculus/differentialequations%3Fephbcs\n",
      "\n",
      "include ?T❙\n",
      "http://localhost:55537/:interview/new?decl=d&cont=http%3A//mathhub.info/MitM/smglom/calculus/differentialequations%3Fephbcs\n",
      "\n",
      "structure T_boundary_types : ?mBCTypes =include ?mUnknown = ?TASmUnknown❙include ?mDifferentialOperators = ?mDifferentialOperators❙❚\n",
      "http://localhost:55537/:interview/new?decl=d&cont=http%3A//mathhub.info/MitM/smglom/calculus/differentialequations%3Fephbcs\n",
      "\n",
      "include ?f❙\n",
      "http://localhost:55537/:interview/new?decl=d&cont=http%3A//mathhub.info/MitM/smglom/calculus/differentialequations%3Fephbcs\n",
      "\n",
      "include ?α❙\n",
      "http://localhost:55537/:interview/new?decl=d&cont=http%3A//mathhub.info/MitM/smglom/calculus/differentialequations%3Fephbcs\n",
      "\n",
      "include ?ephpde1❙\n",
      "http://localhost:55537/:interview/new?view=http%3A//mathhub.info/MitM/smglom/calculus/differentialequations%3FephbcsASmBCsRequired&from=http%3A//mathhub.info/MitM/smglom/calculus/differentialequations%3FmBCsRequired&to=http%3A//mathhub.info/MitM/smglom/calculus/differentialequations%3Fephbcs\n",
      "http://localhost:55537/:interview/new?decl=d&cont=http%3A//mathhub.info/MitM/smglom/calculus/differentialequations%3FephbcsASmBCsRequired\n",
      "\n",
      "include ?mDomain = ?ephdomainASmDomain❙\n",
      "http://localhost:55537/:interview/new?decl=d&cont=http%3A//mathhub.info/MitM/smglom/calculus/differentialequations%3FephbcsASmBCsRequired\n",
      "\n",
      "include ?mUnknown = ?TASmUnknown❙\n",
      "http://localhost:55537/:interview/new?decl=d&cont=http%3A//mathhub.info/MitM/smglom/calculus/differentialequations%3FephbcsASmBCsRequired\n",
      "\n",
      "include ?mParameter = ?fASmParameter❙\n",
      "http://localhost:55537/:interview/new?decl=d&cont=http%3A//mathhub.info/MitM/smglom/calculus/differentialequations%3FephbcsASmBCsRequired\n",
      "\n",
      "include ?mParameter = ?αASmParameter❙\n",
      "http://localhost:55537/:interview/new?decl=d&cont=http%3A//mathhub.info/MitM/smglom/calculus/differentialequations%3FephbcsASmBCsRequired\n",
      "\n",
      "include ?mPDE = ?ephpde1ASmPDE❙\n"
     ]
    },
    {
     "data": {
      "text/markdown": [
       "Ok, <result>\n",
       "  <xml>\n",
       "    <theory meta=\"http://mathhub.info/MitM/Foundation?Logic\" base=\"http://mathhub.info/MitM/smglom/calculus/differentialequations\" name=\"ephpde1\">\n",
       "        \n",
       "        \n",
       "        <import from=\"http://mathhub.info/MitM/smglom/calculus/differentialequations?mDifferentialOperators\"><metadata><link resource=\"http://mathhub.info/MitM/smglom/calculus/differentialequations#0.0.0:31.0.31\" rel=\"http://cds.omdoc.org/mmt?metadata?sourceRef\"/></metadata></import><import from=\"http://mathhub.info/MitM/smglom/calculus/differentialequations?T\"><metadata><link resource=\"http://mathhub.info/MitM/smglom/calculus/differentialequations#0.0.0:10.0.10\" rel=\"http://cds.omdoc.org/mmt?metadata?sourceRef\"/></metadata></import><import from=\"http://mathhub.info/MitM/smglom/calculus/differentialequations?f\"><metadata><link resource=\"http://mathhub.info/MitM/smglom/calculus/differentialequations#0.0.0:10.0.10\" rel=\"http://cds.omdoc.org/mmt?metadata?sourceRef\"/></metadata></import><import from=\"http://mathhub.info/MitM/smglom/calculus/differentialequations?&#945;\"><metadata><link resource=\"http://mathhub.info/MitM/smglom/calculus/differentialequations#0.0.0:10.0.10\" rel=\"http://cds.omdoc.org/mmt?metadata?sourceRef\"/></metadata></import><constant name=\"mylhs\">\n",
       "       <metadata><link resource=\"http://mathhub.info/MitM/smglom/calculus/differentialequations#1.0.1:34.0.34\" rel=\"http://cds.omdoc.org/mmt?metadata?sourceRef\"/></metadata>\n",
       "       <type><om:OMOBJ xmlns:om=\"http://www.openmath.org/OpenMath\"><om:OMBIND>\n",
       "                 <om:OMS name=\"Pi\" module=\"LambdaPi\" base=\"http://cds.omdoc.org/urtheories\"/>\n",
       "                 <om:OMBVAR><om:OMV name=\"anyT\"><type><om:OMA><metadata><link resource=\"http://mathhub.info/MitM/smglom/calculus/differentialequations#19.0.19:23.0.23\" rel=\"http://cds.omdoc.org/mmt?metadata?sourceRef\"/></metadata>\n",
       "              <om:OMS name=\"arrow\" module=\"LambdaPi\" base=\"http://cds.omdoc.org/urtheories\"/>\n",
       "              <om:OMS name=\"&#937;\" module=\"ephdomain\" base=\"http://mathhub.info/MitM/smglom/calculus/differentialequations\"/><om:OMS name=\"real_lit\" module=\"RealLiterals\" base=\"http://mathhub.info/MitM/Foundation\"/>\n",
       "      </om:OMA></type></om:OMV></om:OMBVAR>\n",
       "                 <om:OMA>\n",
       "              <om:OMS name=\"arrow\" module=\"LambdaPi\" base=\"http://cds.omdoc.org/urtheories\"/>\n",
       "              <om:OMS name=\"&#937;\" module=\"ephdomain\" base=\"http://mathhub.info/MitM/smglom/calculus/differentialequations\"/><om:OMS name=\"real_lit\" module=\"RealLiterals\" base=\"http://mathhub.info/MitM/Foundation\"/>\n",
       "      </om:OMA>\n",
       "      </om:OMBIND></om:OMOBJ></type>\n",
       "       <definition><om:OMOBJ xmlns:om=\"http://www.openmath.org/OpenMath\"><om:OMBIND><metadata><link resource=\"http://mathhub.info/MitM/smglom/calculus/differentialequations#10.0.10:32.0.32\" rel=\"http://cds.omdoc.org/mmt?metadata?sourceRef\"/></metadata>\n",
       "                 <om:OMS name=\"lambda\" module=\"LambdaPi\" base=\"http://cds.omdoc.org/urtheories\"/>\n",
       "                 <om:OMBVAR><om:OMV name=\"anyT\"><metadata><link resource=\"http://mathhub.info/MitM/smglom/calculus/differentialequations#12.0.12:15.0.15\" rel=\"http://cds.omdoc.org/mmt?metadata?sourceRef\"/></metadata><type><om:OMA><metadata><link resource=\"http://mathhub.info/MitM/smglom/calculus/differentialequations#19.0.19:23.0.23\" rel=\"http://cds.omdoc.org/mmt?metadata?sourceRef\"/></metadata>\n",
       "              <om:OMS name=\"arrow\" module=\"LambdaPi\" base=\"http://cds.omdoc.org/urtheories\"/>\n",
       "              <om:OMS name=\"&#937;\" module=\"ephdomain\" base=\"http://mathhub.info/MitM/smglom/calculus/differentialequations\"/><om:OMS name=\"real_lit\" module=\"RealLiterals\" base=\"http://mathhub.info/MitM/Foundation\"/>\n",
       "      </om:OMA></type></om:OMV></om:OMBVAR>\n",
       "                 <om:OMA><metadata><link resource=\"http://mathhub.info/MitM/smglom/calculus/differentialequations#27.0.27:32.0.32\" rel=\"http://cds.omdoc.org/mmt?metadata?sourceRef\"/></metadata>\n",
       "              <om:OMS name=\"apply\" module=\"LambdaPi\" base=\"http://cds.omdoc.org/urtheories\"/>\n",
       "              <om:OMS name=\"laplace_operator\" module=\"mDifferentialOperators\" base=\"http://mathhub.info/MitM/smglom/calculus/differentialequations\"/><om:OMS name=\"&#937;\" module=\"ephdomain\" base=\"http://mathhub.info/MitM/smglom/calculus/differentialequations\"/><om:OMS name=\"real_lit\" module=\"RealLiterals\" base=\"http://mathhub.info/MitM/Foundation\"/><om:OMV name=\"anyT\"><metadata><link resource=\"http://mathhub.info/MitM/smglom/calculus/differentialequations#29.0.29:32.0.32\" rel=\"http://cds.omdoc.org/mmt?metadata?sourceRef\"/></metadata></om:OMV>\n",
       "      </om:OMA>\n",
       "      </om:OMBIND></om:OMOBJ></definition>\n",
       "       \n",
       "     </constant><constant name=\"myrhs\">\n",
       "       <metadata><link resource=\"http://mathhub.info/MitM/smglom/calculus/differentialequations#1.0.1:11.0.11\" rel=\"http://cds.omdoc.org/mmt?metadata?sourceRef\"/></metadata>\n",
       "       <type><om:OMOBJ xmlns:om=\"http://www.openmath.org/OpenMath\"><om:OMBIND>\n",
       "                 <om:OMS name=\"Pi\" module=\"LambdaPi\" base=\"http://cds.omdoc.org/urtheories\"/>\n",
       "                 <om:OMBVAR><om:OMV name=\"x\"><type><om:OMS name=\"&#937;\" module=\"ephdomain\" base=\"http://mathhub.info/MitM/smglom/calculus/differentialequations\"><metadata><link resource=\"http://mathhub.info/MitM/smglom/calculus/differentialequations#10.0.10:10.0.10\" rel=\"http://cds.omdoc.org/mmt?metadata?sourceRef\"/></metadata></om:OMS></type></om:OMV></om:OMBVAR>\n",
       "                 <om:OMS name=\"real_lit\" module=\"RealLiterals\" base=\"http://mathhub.info/MitM/Foundation\"><metadata><link resource=\"http://mathhub.info/MitM/Foundation/math.mmt#4573.137.32:4580.137.39\" rel=\"http://cds.omdoc.org/mmt?metadata?sourceRef\"/></metadata></om:OMS>\n",
       "      </om:OMBIND></om:OMOBJ></type>\n",
       "       <definition><om:OMOBJ xmlns:om=\"http://www.openmath.org/OpenMath\"><om:OMS name=\"&#945;\" module=\"&#945;\" base=\"http://mathhub.info/MitM/smglom/calculus/differentialequations\"><metadata><link resource=\"http://mathhub.info/MitM/smglom/calculus/differentialequations#10.0.10:10.0.10\" rel=\"http://cds.omdoc.org/mmt?metadata?sourceRef\"/></metadata></om:OMS></om:OMOBJ></definition>\n",
       "       \n",
       "     </constant>\n",
       "      </theory>\n",
       "  </xml>\n",
       "</result>\n",
       "\n",
       "\n",
       "\n",
       "\n",
       "These are all the PDEs needed.\n",
       "Let's discuss your boundary conditions. What do they look like? u(x) = f(x) or u(1.0) = \\alpha ?\n"
      ]
     },
     "metadata": {},
     "output_type": "display_data"
    }
   ],
   "source": [
    "ΔT = \\alpha"
   ]
  },
  {
   "cell_type": "code",
   "execution_count": 9,
   "metadata": {},
   "outputs": [
    {
     "name": "stdout",
     "output_type": "stream",
     "text": [
      "http://localhost:55537/:interview/infer?cont=http%3A//mathhub.info/MitM/smglom/calculus/differentialequations%3Fephpde1\n",
      "\n",
      " [ anyT : Ω ⟶ ℝ ]  anyT \n",
      "http://localhost:55537/:interview/infer?cont=http%3A//mathhub.info/MitM/smglom/calculus/differentialequations%3Fephpde1\n",
      "\n",
      " f\n",
      "http://localhost:55537/:interview/new?decl=d&cont=http%3A//mathhub.info/MitM/smglom/calculus/differentialequations%3FephbcsASmBCsRequired\n",
      "\n",
      "firstBC = T_boundary_types/DirichletBCfun  f❙\n",
      "http://localhost:55537/:interview/new?decl=d&cont=http%3A//mathhub.info/MitM/smglom/calculus/differentialequations%3FephbcsASmBCsRequired\n",
      "\n",
      "secondBC = T_boundary_types/DirichletBCfun  f❙\n",
      "http://localhost:55537/:interview/new?theory=http%3A//mathhub.info/MitM/smglom/calculus/differentialequations%3FephBoundaryValueProblem&meta=http%3A//mathhub.info/MitM/Foundation%3FLogic\n",
      "http://localhost:55537/:interview/new?decl=d&cont=http%3A//mathhub.info/MitM/smglom/calculus/differentialequations%3FephBoundaryValueProblem\n",
      "\n",
      "include ?mLinearity❙\n",
      "http://localhost:55537/:interview/new?decl=d&cont=http%3A//mathhub.info/MitM/smglom/calculus/differentialequations%3FephBoundaryValueProblem\n",
      "\n",
      "include http://mathhub.info/MitM/Foundation?Strings❙\n",
      "http://localhost:55537/:interview/new?decl=d&cont=http%3A//mathhub.info/MitM/smglom/calculus/differentialequations%3FephBoundaryValueProblem\n",
      "\n",
      "include ?T❙\n",
      "http://localhost:55537/:interview/new?decl=d&cont=http%3A//mathhub.info/MitM/smglom/calculus/differentialequations%3FephBoundaryValueProblem\n",
      "\n",
      "include ?f❙\n",
      "http://localhost:55537/:interview/new?decl=d&cont=http%3A//mathhub.info/MitM/smglom/calculus/differentialequations%3FephBoundaryValueProblem\n",
      "\n",
      "include ?α❙\n",
      "http://localhost:55537/:interview/new?decl=d&cont=http%3A//mathhub.info/MitM/smglom/calculus/differentialequations%3FephBoundaryValueProblem\n",
      "\n",
      "include ?ephpde1❙\n",
      "http://localhost:55537/:interview/new?decl=d&cont=http%3A//mathhub.info/MitM/smglom/calculus/differentialequations%3FephBoundaryValueProblem\n",
      "\n",
      "include ?ephbcs❙\n",
      "http://localhost:55537/:interview/new?view=http%3A//mathhub.info/MitM/smglom/calculus/differentialequations%3FephBoundaryValueProblemASmEllipticLinearDirichletBoundaryValueProblem&from=http%3A//mathhub.info/MitM/smglom/calculus/differentialequations%3FmEllipticLinearDirichletBoundaryValueProblem&to=http%3A//mathhub.info/MitM/smglom/calculus/differentialequations%3FephBoundaryValueProblem\n",
      "http://localhost:55537/:interview/new?decl=d&cont=http%3A//mathhub.info/MitM/smglom/calculus/differentialequations%3FephBoundaryValueProblemASmEllipticLinearDirichletBoundaryValueProblem\n",
      "\n",
      "include ?mDomain = ?ephdomainASmDomain❙\n",
      "http://localhost:55537/:interview/new?decl=d&cont=http%3A//mathhub.info/MitM/smglom/calculus/differentialequations%3FephBoundaryValueProblemASmEllipticLinearDirichletBoundaryValueProblem\n",
      "\n",
      "include ?mUnknown = ?TASmUnknown❙\n",
      "http://localhost:55537/:interview/new?decl=d&cont=http%3A//mathhub.info/MitM/smglom/calculus/differentialequations%3FephBoundaryValueProblemASmEllipticLinearDirichletBoundaryValueProblem\n",
      "\n",
      "include ?mParameter = ?fASmParameter❙\n",
      "http://localhost:55537/:interview/new?decl=d&cont=http%3A//mathhub.info/MitM/smglom/calculus/differentialequations%3FephBoundaryValueProblemASmEllipticLinearDirichletBoundaryValueProblem\n",
      "\n",
      "include ?mParameter = ?αASmParameter❙\n",
      "http://localhost:55537/:interview/new?decl=d&cont=http%3A//mathhub.info/MitM/smglom/calculus/differentialequations%3FephBoundaryValueProblemASmEllipticLinearDirichletBoundaryValueProblem\n",
      "\n",
      "include ?mPDE = ?ephpde1ASmPDE❙\n",
      "http://localhost:55537/:interview/new?decl=d&cont=http%3A//mathhub.info/MitM/smglom/calculus/differentialequations%3FephBoundaryValueProblemASmEllipticLinearDirichletBoundaryValueProblem\n",
      "\n",
      "include ?mBCsRequired = ?ephbcsASmBCsRequired❙\n",
      "http://localhost:55537/:interview/new?decl=d&cont=http%3A//mathhub.info/MitM/smglom/calculus/differentialequations%3FephBoundaryValueProblemASmEllipticLinearDirichletBoundaryValueProblem\n",
      "\n",
      "include ?mDifferentialOperators = ?mDifferentialOperators❙\n",
      "http://localhost:55537/:interview/new?decl=d&cont=http%3A//mathhub.info/MitM/smglom/calculus/differentialequations%3FephBoundaryValueProblemASmEllipticLinearDirichletBoundaryValueProblem\n",
      "\n",
      "include ?mLinearity = ?mLinearity❙\n"
     ]
    },
    {
     "data": {
      "text/markdown": [
       "Ok \n",
       "\n",
       "\n",
       "\n",
       "These are all the boundary conditions needed.\n",
       "\n",
       "\n",
       "\n",
       "Do you know something about the operator Δ? Is it e.g. linear, or not elliptic ? \n"
      ]
     },
     "metadata": {},
     "output_type": "display_data"
    }
   ],
   "source": [
    "T = f"
   ]
  },
  {
   "cell_type": "code",
   "execution_count": 10,
   "metadata": {},
   "outputs": [
    {
     "name": "stdout",
     "output_type": "stream",
     "text": [
      "http://localhost:55537/:interview/new?decl=d&cont=http%3A//mathhub.info/MitM/smglom/calculus/differentialequations%3FephBoundaryValueProblem\n",
      "\n",
      "user_linear : ⊦ linear mylhs ❘= sketch \"user knowledge\" ❙\n",
      "http://localhost:55537/:interview/new?decl=d&cont=http%3A//mathhub.info/MitM/smglom/calculus/differentialequations%3FephBoundaryValueProblemASmEllipticLinearDirichletBoundaryValueProblem\n",
      "\n",
      "isLinear = user_linear❙\n"
     ]
    },
    {
     "data": {
      "text/markdown": [
       "OK!\n",
       "do you know anything else?\n"
      ]
     },
     "metadata": {},
     "output_type": "display_data"
    }
   ],
   "source": [
    "linear"
   ]
  },
  {
   "cell_type": "code",
   "execution_count": 11,
   "metadata": {},
   "outputs": [
    {
     "name": "stdout",
     "output_type": "stream",
     "text": [
      "http://localhost:55537/:interview/new?decl=d&cont=http%3A//mathhub.info/MitM/smglom/calculus/differentialequations%3FephBoundaryValueProblem\n",
      "\n",
      "user_elliptic : ⊦ elliptic mylhs ❘= sketch \"user knowledge\" ❙\n",
      "http://localhost:55537/:interview/new?decl=d&cont=http%3A//mathhub.info/MitM/smglom/calculus/differentialequations%3FephBoundaryValueProblemASmEllipticLinearDirichletBoundaryValueProblem\n",
      "\n",
      "isElliptic = user_elliptic❙\n"
     ]
    },
    {
     "data": {
      "text/markdown": [
       "OK!\n",
       "do you know anything else?\n"
      ]
     },
     "metadata": {},
     "output_type": "display_data"
    }
   ],
   "source": [
    "elliptic"
   ]
  },
  {
   "cell_type": "code",
   "execution_count": 12,
   "metadata": {},
   "outputs": [
    {
     "data": {
      "text/markdown": [
       "\n",
       "\n",
       "\n",
       "These are the things we know so far about your problem:\n",
       "\n",
       "\n",
       "\n",
       "\n",
       "\n",
       "\n",
       "domain: {'name': 'Ω', 'theoryname': 'ephdomain', 'axes': OrderedDict([('x', '[0.0;1.0]')]), 'from': '0.0', 'to': '1.0', 'boundary_name': 'Ω', 'viewname': 'ephdomainASmDomain'}\n",
       "\n",
       "\n",
       "\n",
       "\n",
       "\n",
       "\n",
       "unknowns: OrderedDict([('T', {'theoryname': 'T', 'string': 'T : Ω ⟶ ℝ', 'type': 'Ω ⟶ ℝ', 'codomain': 'ℝ', 'viewname': 'TASmUnknown'})])\n",
       "\n",
       "\n",
       "\n",
       "\n",
       "\n",
       "\n",
       "parameters: OrderedDict([('f', {'theoryname': 'f', 'string': 'f = x', 'parsestring': 'f = [ x : Ω] x', 'type': '{ : Ω } Ω', 'viewname': 'fASmParameter'}), ('α', {'theoryname': 'α', 'string': 'α = -5.0', 'parsestring': 'α = [ x : Ω] -5.0', 'type': '{ : Ω } ℝ', 'viewname': 'αASmParameter'})])\n",
       "\n",
       "\n",
       "\n",
       "\n",
       "\n",
       "\n",
       "pdes: {'pdes': [{'theoryname': 'ephpde1', 'string': 'ΔT = α', 'lhsstring': 'ΔT', 'rhsstring': 'α', 'rhsstring_expanded': '-5.0', 'viewname': 'ephpde1ASmPDE', 'op': 'Δ', 'lhsparsestring': ' [ anyT : Ω ⟶ ℝ ] Δ anyT ', 'rhsparsestring': ' α'}]}\n",
       "\n",
       "\n",
       "\n",
       "\n",
       "\n",
       "\n",
       "bcs: {'theoryname': 'ephbcs', 'bcs': [{'name': 'bc0', 'string': 'T = f', 'lhsstring': 'T', 'rhsstring': 'f', 'rhsstring_expanded': 'x', 'type': ('Dirichlet',), 'on': ('x',), 'measure': (2,)}], 'viewname': 'ephbcsASmBCsRequired', 'measure_given': 2}\n",
       "\n",
       "\n",
       "\n",
       "\n",
       "\n",
       "\n",
       "props: {'theoryname': 'ephBoundaryValueProblem', 'viewname': 'ephBoundaryValueProblemASmEllipticLinearDirichletBoundaryValueProblem', 'ops': [{'name': 'Δ', 'props': ['elliptic'], 'linear': True}]}\n",
       "\n",
       "\n",
       "\n",
       "\n",
       "\n",
       "\n",
       "sim: {'type': None}\n",
       "Would you like to try and solve the PDE using the Finite Difference Method in ExaStencils? If yes, you can provide a configuration name, or we'll just use your name.\n"
      ]
     },
     "metadata": {},
     "output_type": "display_data"
    }
   ],
   "source": [
    "n"
   ]
  },
  {
   "cell_type": "code",
   "execution_count": null,
   "metadata": {},
   "outputs": [],
   "source": []
  },
  {
   "cell_type": "code",
   "execution_count": null,
   "metadata": {
    "scrolled": false
   },
   "outputs": [
    {
     "name": "stdout",
     "output_type": "stream",
     "text": [
      "http://localhost:55537/:interview/new?theory=http%3A//mathhub.info/MitM/smglom/calculus/differentialequations%3FMPD_T&meta=http%3A//mathhub.info/MitM/Foundation%3FLogic\n",
      "http://localhost:55537/:interview/new?decl=d&cont=http%3A//mathhub.info/MitM/smglom/calculus/differentialequations%3FMPD_T\n",
      "\n",
      "include ?T❙\n",
      "http://localhost:55537/:interview/new?decl=d&cont=http%3A//mathhub.info/MitM/smglom/calculus/differentialequations%3FMPD_T\n",
      "\n",
      "T : Ω ⟶ ℝ❘ role Quantity❙\n",
      "http://localhost:55537/:interview/new?theory=http%3A//mathhub.info/MitM/smglom/calculus/differentialequations%3FMPD_f&meta=http%3A//mathhub.info/MitM/Foundation%3FLogic\n",
      "http://localhost:55537/:interview/new?decl=d&cont=http%3A//mathhub.info/MitM/smglom/calculus/differentialequations%3FMPD_f\n",
      "\n",
      "include ?f❙\n",
      "http://localhost:55537/:query\n",
      "\n",
      "<function name=\"presentDecl\" param=\"xml\"><literal><uri path=\"http://mathhub.info/MitM/smglom/calculus/differentialequations?f\"/></literal></function>\n",
      "http://localhost:55537/:interview/new?decl=d&cont=http%3A//mathhub.info/MitM/smglom/calculus/differentialequations%3FMPD_f\n",
      "\n",
      "proof_f : ⊦ f ≐ [ x : Ω] x❘ role Law❙\n",
      "http://localhost:55537/:interview/new?theory=http%3A//mathhub.info/MitM/smglom/calculus/differentialequations%3FMPD_%CE%B1&meta=http%3A//mathhub.info/MitM/Foundation%3FLogic\n",
      "http://localhost:55537/:interview/new?decl=d&cont=http%3A//mathhub.info/MitM/smglom/calculus/differentialequations%3FMPD_%CE%B1\n",
      "\n",
      "include ?α❙\n",
      "http://localhost:55537/:query\n",
      "\n",
      "<function name=\"presentDecl\" param=\"xml\"><literal><uri path=\"http://mathhub.info/MitM/smglom/calculus/differentialequations?α\"/></literal></function>\n",
      "http://localhost:55537/:interview/new?decl=d&cont=http%3A//mathhub.info/MitM/smglom/calculus/differentialequations%3FMPD_%CE%B1\n",
      "\n",
      "proof_α : ⊦ α ≐ [ x : Ω] -5.0❘ role Law❙\n",
      "http://localhost:55537/:interview/new?theory=http%3A//mathhub.info/MitM/smglom/calculus/differentialequations%3FMPD_ephpde1&meta=http%3A//mathhub.info/MitM/Foundation%3FLogic\n",
      "http://localhost:55537/:interview/new?decl=d&cont=http%3A//mathhub.info/MitM/smglom/calculus/differentialequations%3FMPD_ephpde1\n",
      "\n",
      "include ?ephpde1❙\n",
      "http://localhost:55537/:interview/new?decl=d&cont=http%3A//mathhub.info/MitM/smglom/calculus/differentialequations%3FMPD_ephpde1\n",
      "\n",
      "include ?MPD_T❙\n",
      "http://localhost:55537/:interview/new?decl=d&cont=http%3A//mathhub.info/MitM/smglom/calculus/differentialequations%3FMPD_ephpde1\n",
      "\n",
      "include ?f❙\n",
      "http://localhost:55537/:interview/new?decl=d&cont=http%3A//mathhub.info/MitM/smglom/calculus/differentialequations%3FMPD_ephpde1\n",
      "\n",
      "include ?α❙\n"
     ]
    }
   ],
   "source": [
    "tgview mpd"
   ]
  },
  {
   "cell_type": "code",
   "execution_count": 14,
   "metadata": {},
   "outputs": [
    {
     "data": {
      "text/markdown": [
       "These are the things we know so far about your problem:\n",
       "\n",
       "\n",
       "\n",
       "\n",
       "\n",
       "\n",
       "domain: {'name': 'Ω', 'theoryname': 'ephdomain', 'axes': OrderedDict([('x', '[0.0;1.0]')]), 'from': '0.0', 'to': '1.0', 'boundary_name': 'Ω', 'viewname': 'ephdomainASmDomain'}\n",
       "\n",
       "\n",
       "\n",
       "\n",
       "\n",
       "\n",
       "unknowns: OrderedDict([('T', {'theoryname': 'T', 'string': 'T : Ω ⟶ ℝ', 'type': 'Ω ⟶ ℝ', 'codomain': 'ℝ', 'viewname': 'TASmUnknown'})])\n",
       "\n",
       "\n",
       "\n",
       "\n",
       "\n",
       "\n",
       "parameters: OrderedDict([('f', {'theoryname': 'f', 'string': 'f = x', 'parsestring': 'f = [ x : Ω] x', 'type': '{ : Ω } Ω', 'viewname': 'fASmParameter'}), ('α', {'theoryname': 'α', 'string': 'α = -5.0', 'parsestring': 'α = [ x : Ω] -5.0', 'type': '{ : Ω } ℝ', 'viewname': 'αASmParameter'})])\n",
       "\n",
       "\n",
       "\n",
       "\n",
       "\n",
       "\n",
       "pdes: {'pdes': [{'theoryname': 'ephpde1', 'string': 'ΔT = α', 'lhsstring': 'ΔT', 'rhsstring': 'α', 'rhsstring_expanded': '-5.0', 'viewname': 'ephpde1ASmPDE', 'op': 'Δ', 'lhsparsestring': ' [ anyT : Ω ⟶ ℝ ] Δ anyT ', 'rhsparsestring': ' α'}]}\n",
       "\n",
       "\n",
       "\n",
       "\n",
       "\n",
       "\n",
       "bcs: {'theoryname': 'ephbcs', 'bcs': [{'name': 'bc0', 'string': 'T = f', 'lhsstring': 'T', 'rhsstring': 'f', 'rhsstring_expanded': 'x', 'type': ('Dirichlet',), 'on': ('x',), 'measure': (2,)}], 'viewname': 'ephbcsASmBCsRequired', 'measure_given': 2}\n",
       "\n",
       "\n",
       "\n",
       "\n",
       "\n",
       "\n",
       "props: {'theoryname': 'ephBoundaryValueProblem', 'viewname': 'ephBoundaryValueProblemASmEllipticLinearDirichletBoundaryValueProblem', 'ops': [{'name': 'Δ', 'props': ['elliptic'], 'linear': True}]}\n",
       "\n",
       "\n",
       "\n",
       "\n",
       "\n",
       "\n",
       "sim: {'type': None}\n"
      ]
     },
     "metadata": {},
     "output_type": "display_data"
    }
   ],
   "source": [
    "recap"
   ]
  },
  {
   "cell_type": "code",
   "execution_count": 15,
   "metadata": {},
   "outputs": [
    {
     "name": "stdout",
     "output_type": "stream",
     "text": [
      "{\n",
      "  \"stdin_port\": UNKNOWN,\n",
      "  \"shell_port\": UNKNOWN,\n",
      "  \"iopub_port\": UNKNOWN,\n",
      "  \"hb_port\": UNKNOWN,\n",
      "  \"ip\": \"UNKNOWN\",\n",
      "  \"key\": \"UNKNOWN\",\n",
      "  \"signature_scheme\": \"UNKNOWN\",\n",
      "  \"transport\": \"UNKNOWN\"\n",
      "}\n",
      "\n",
      "Paste the above JSON into a file, and connect with:\n",
      "    $> ipython <app> --existing <file>\n",
      "or, if you are local, you can connect with just:\n",
      "    $> ipython <app> --existing UNKNOWN\n",
      "\n",
      "or even just:\n",
      "    $> ipython <app> --existing\n",
      "if this is the most recent Jupyter session you have started.\n",
      "\n"
     ]
    }
   ],
   "source": [
    "%connect_info"
   ]
  },
  {
   "cell_type": "code",
   "execution_count": 16,
   "metadata": {},
   "outputs": [
    {
     "data": {
      "text/html": [
       "\n",
       "            <iframe \n",
       "                src=\"http://localhost:55537/graphs/tgview.html?type=pgraph&graphdata=http%3A%2F%2Fmathhub.info%2FMitM%2Fsmglom%2Fcalculus%2Fdifferentialequations&viewOnlyMode=true\" \n",
       "                style=\"width: 100%; height: 510px; border: none\"\n",
       "            >\n",
       "            </iframe>\n",
       "        "
      ],
      "text/plain": [
       "<IPython.core.display.HTML object>"
      ]
     },
     "metadata": {},
     "output_type": "display_data"
    },
    {
     "data": {
      "text/markdown": []
     },
     "metadata": {},
     "output_type": "display_data"
    }
   ],
   "source": [
    "tgview"
   ]
  },
  {
   "cell_type": "code",
   "execution_count": null,
   "metadata": {},
   "outputs": [],
   "source": []
  }
 ],
 "metadata": {
  "kernelspec": {
   "display_name": "TheInterview",
   "language": "text",
   "name": "interview"
  },
  "language_info": {
   "file_extension": ".txt",
   "help_links": [
    {
     "text": "MetaKernel Magics",
     "url": "https://github.com/calysto/metakernel/blob/master/metakernel/magics/README.md"
    }
   ],
   "mimetype": "text/plain",
   "name": "text"
  }
 },
 "nbformat": 4,
 "nbformat_minor": 2
}
