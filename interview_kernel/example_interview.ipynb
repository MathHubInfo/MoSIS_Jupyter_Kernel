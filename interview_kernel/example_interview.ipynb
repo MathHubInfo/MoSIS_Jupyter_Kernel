{
 "cells": [
  {
   "cell_type": "markdown",
   "metadata": {},
   "source": [
    "**Hello, user! I am TheInterview, your partial differential equations and simulations expert.**\n",
    "Let's set up a model and simulation together.\n",
    "\n",
    "To get explanations, enter `explain <optional keyword>`. \n",
    "To see a recap of what we know so far, enter `recap <optional keyword>`. \n",
    "To interactively visualize ther current theory graph, enter `tgwiev` or `tgview mpd`. \n",
    "Otherwise, you can always answer with LaTeX-type input.\n",
    "\n",
    "\n",
    "How many dimensions does your model have?\n",
    "\n",
    "\n",
    "I am just assuming it's 1, since that is all we can currently handle.\n",
    "\n",
    "\n",
    "\n",
    "\n",
    "What is the domain you would like to simulate for?     Ω : type ❘ = [?;?], e.g. \\Omega = [0.0;1.0]\n",
    "By the way, you can always try and use LaTeX-type input.\n"
   ]
  },
  {
   "cell_type": "code",
   "execution_count": 1,
   "metadata": {},
   "outputs": [
    {
     "data": {
      "text/markdown": [
       "we will just assume that the variable is called x for now.\n",
       "\n",
       "\n",
       "\n",
       "Which variable(s) are you looking for? / What are the unknowns in your model?  u : Ω ⟶ ??,  e.g., u : Ω ⟶ ℝ ?\n"
      ]
     },
     "metadata": {},
     "output_type": "display_data"
    }
   ],
   "source": [
    "Ω = [0.0;1.0]"
   ]
  },
  {
   "cell_type": "code",
   "execution_count": 2,
   "metadata": {},
   "outputs": [
    {
     "data": {
      "text/markdown": [
       "Ok, T : Ω ⟶ ℝ\n",
       "\n",
       "\n",
       "\n",
       "Would you like to name additional parameters like constants or functions (that are independent of your             unknowns)?  c : ℝ = ? or f : Ω ⟶ ℝ = ?\n"
      ]
     },
     "metadata": {},
     "output_type": "display_data"
    }
   ],
   "source": [
    "T : Ω ⟶ ℝ"
   ]
  },
  {
   "cell_type": "code",
   "execution_count": 3,
   "metadata": {},
   "outputs": [
    {
     "data": {
      "text/markdown": [
       "Ok, f = [ x : Ω] x\n",
       "\n",
       "\n",
       "\n",
       "Would you like to declare more parameters?\n"
      ]
     },
     "metadata": {},
     "output_type": "display_data"
    }
   ],
   "source": [
    "f = x"
   ]
  },
  {
   "cell_type": "code",
   "execution_count": 4,
   "metadata": {},
   "outputs": [
    {
     "data": {
      "text/markdown": [
       "Ok, α = [ x : Ω] -5.0\n",
       "\n",
       "\n",
       "\n",
       "Would you like to declare more parameters?\n"
      ]
     },
     "metadata": {},
     "output_type": "display_data"
    }
   ],
   "source": [
    "\\alpha = -5.0"
   ]
  },
  {
   "cell_type": "code",
   "execution_count": 5,
   "metadata": {},
   "outputs": [
    {
     "data": {
      "text/markdown": []
     },
     "metadata": {},
     "output_type": "display_data"
    }
   ],
   "source": [
    "y"
   ]
  },
  {
   "cell_type": "code",
   "execution_count": 6,
   "metadata": {
    "scrolled": true
   },
   "outputs": [
    {
     "data": {
      "text/markdown": [
       "I did not catch that. Could you please rephrase?\n",
       "Details: MMT server error: unbound token: ·. <div xmlns=\"http://www.w3.org/1999/xhtml\">\n",
       "  <div>\n",
       "    <div class=\"error\">\n",
       "      <div><span class=\"name\">info.kwarc.mmt.api.SourceError</span> of level <span class=\"level\">2</span></div>\n",
       "      <div class=\"message\">unbound token: &#183;</div>\n",
       "      <div>source error (object-parser) at http://mathhub.info/MitM/smglom/calculus/differentialequations#15.0.15:15.0.15\n",
       "\n",
       "</div>\n",
       "      <div class=\"stacktrace\">\n",
       "        <div class=\"stacktraceline\">\n",
       "          <span>info.kwarc.mmt.api.parser.NotationBasedParser.makeError(NotationBasedParser.scala:93)</span>\n",
       "        </div>\n",
       "        <div class=\"stacktraceline\">\n",
       "          <span>info.kwarc.mmt.api.parser.NotationBasedParser.makeTerm(NotationBasedParser.scala:321)</span>\n",
       "        </div>\n",
       "        <div class=\"stacktraceline\">\n",
       "          <span>info.kwarc.mmt.api.parser.NotationBasedParser.$anonfun$makeTerm$5(NotationBasedParser.scala:345)</span>\n",
       "        </div>\n",
       "        <div class=\"stacktraceline\">\n",
       "          <span>scala.collection.immutable.List.map(List.scala:287)</span>\n",
       "        </div>\n",
       "        <div class=\"stacktraceline\">\n",
       "          <span>info.kwarc.mmt.api.parser.NotationBasedParser.makeTerm(NotationBasedParser.scala:345)</span>\n",
       "        </div>\n",
       "        <div class=\"stacktraceline\">\n",
       "          <span>info.kwarc.mmt.api.parser.NotationBasedParser.doFoundContent$1(NotationBasedParser.scala:437)</span>\n",
       "        </div>\n",
       "        <div class=\"stacktraceline\">\n",
       "          <span>info.kwarc.mmt.api.parser.NotationBasedParser.$anonfun$makeTermFromMatchedList$14(NotationBasedParser.scala:496)</span>\n",
       "        </div>\n",
       "        <div class=\"stacktraceline\">\n",
       "          <span>info.kwarc.mmt.api.parser.NotationBasedParser.$anonfun$makeTermFromMatchedList$14$adapted(NotationBasedParser.scala:493)</span>\n",
       "        </div>\n",
       "        <div class=\"stacktraceline\">\n",
       "          <span>scala.collection.immutable.List.foreach(List.scala:389)</span>\n",
       "        </div>\n",
       "        <div class=\"stacktraceline\">\n",
       "          <span>info.kwarc.mmt.api.parser.NotationBasedParser.makeTermFromMatchedList(NotationBasedParser.scala:493)</span>\n",
       "        </div>\n",
       "        <div class=\"stacktraceline\">\n",
       "          <span>info.kwarc.mmt.api.parser.NotationBasedParser.makeTerm(NotationBasedParser.scala:329)</span>\n",
       "        </div>\n",
       "        <div class=\"stacktraceline\">\n",
       "          <span>info.kwarc.mmt.api.parser.NotationBasedParser.makeTerm(NotationBasedParser.scala:335)</span>\n",
       "        </div>\n",
       "        <div class=\"stacktraceline\">\n",
       "          <span>info.kwarc.mmt.api.parser.NotationBasedParser.$anonfun$apply$10(NotationBasedParser.scala:214)</span>\n",
       "        </div>\n",
       "        <div class=\"stacktraceline\">\n",
       "          <span>info.kwarc.mmt.api.frontend.Logger.logGroup(Log.scala:34)</span>\n",
       "        </div>\n",
       "        <div class=\"stacktraceline\">\n",
       "          <span>info.kwarc.mmt.api.frontend.Logger.logGroup$(Log.scala:31)</span>\n",
       "        </div>\n",
       "        <div class=\"stacktraceline\">\n",
       "          <span>info.kwarc.mmt.api.parser.NotationBasedParser.logGroup(NotationBasedParser.scala:69)</span>\n",
       "        </div>\n",
       "        <div class=\"stacktraceline\">\n",
       "          <span>info.kwarc.mmt.api.parser.NotationBasedParser.apply(NotationBasedParser.scala:214)</span>\n",
       "        </div>\n",
       "        <div class=\"stacktraceline\">\n",
       "          <span>info.kwarc.mmt.api.parser.KeywordBasedParser.puCont(StructureParser.scala:141)</span>\n",
       "        </div>\n",
       "        <div class=\"stacktraceline\">\n",
       "          <span>info.kwarc.mmt.api.parser.KeywordBasedParser.readParsedObject(StructureParser.scala:287)</span>\n",
       "        </div>\n",
       "        <div class=\"stacktraceline\">\n",
       "          <span>info.kwarc.mmt.api.parser.KeywordBasedParser.doComponent(StructureParser.scala:292)</span>\n",
       "        </div>\n",
       "        <div class=\"stacktraceline\">\n",
       "          <span>info.kwarc.mmt.api.parser.KeywordBasedParser.readConstant(StructureParser.scala:880)</span>\n",
       "        </div>\n",
       "        <div class=\"stacktraceline\">\n",
       "          <span>info.kwarc.mmt.api.parser.KeywordBasedParser.readInModuleAux(StructureParser.scala:630)</span>\n",
       "        </div>\n",
       "        <div class=\"stacktraceline\">\n",
       "          <span>info.kwarc.mmt.api.parser.KeywordBasedParser.readInModule(StructureParser.scala:457)</span>\n",
       "        </div>\n",
       "        <div class=\"stacktraceline\">\n",
       "          <span>info.kwarc.mmt.interviews.InterviewServer.parseDecl(InterviewServer.scala:102)</span>\n",
       "        </div>\n",
       "        <div class=\"stacktraceline\">\n",
       "          <span>info.kwarc.mmt.interviews.InterviewServer.apply(InterviewServer.scala:50)</span>\n",
       "        </div>\n",
       "        <div class=\"stacktraceline\">\n",
       "          <span>info.kwarc.mmt.api.web.Server.resolveExtension(Server.scala:95)</span>\n",
       "        </div>\n",
       "        <div class=\"stacktraceline\">\n",
       "          <span>info.kwarc.mmt.api.web.Server.resolve(Server.scala:76)</span>\n",
       "        </div>\n",
       "        <div class=\"stacktraceline\">\n",
       "          <span>info.kwarc.mmt.api.web.Server.handleRequest(Server.scala:53)</span>\n",
       "        </div>\n",
       "        <div class=\"stacktraceline\">\n",
       "          <span>info.kwarc.mmt.api.web.TiscafServerImplementation$RequestHandler$$anon$1.act(TiscafServerImplementation.scala:49)</span>\n",
       "        </div>\n",
       "        <div class=\"stacktraceline\">\n",
       "          <span>tiscaf.HSimpleLet.aact(HLet.scala:166)</span>\n",
       "        </div>\n",
       "        <div class=\"stacktraceline\">\n",
       "          <span>tiscaf.HSimpleLet.aact$(HLet.scala:165)</span>\n",
       "        </div>\n",
       "        <div class=\"stacktraceline\">\n",
       "          <span>info.kwarc.mmt.api.web.TiscafServerImplementation$RequestHandler$$anon$1.aact(TiscafServerImplementation.scala:47)</span>\n",
       "        </div>\n",
       "        <div class=\"stacktraceline\">\n",
       "          <span>tiscaf.HAcceptor.talk(HAcceptor.scala:246)</span>\n",
       "        </div>\n",
       "        <div class=\"stacktraceline\">\n",
       "          <span>tiscaf.HSimplePeer.doTalkItself$1(HPeer.scala:101)</span>\n",
       "        </div>\n",
       "        <div class=\"stacktraceline\">\n",
       "          <span>tiscaf.HSimplePeer.$anonfun$readChannel$1(HPeer.scala:114)</span>\n",
       "        </div>\n",
       "        <div class=\"stacktraceline\">\n",
       "          <span>scala.runtime.java8.JFunction0$mcV$sp.apply(JFunction0$mcV$sp.java:12)</span>\n",
       "        </div>\n",
       "        <div class=\"stacktraceline\">\n",
       "          <span>scala.concurrent.Future$.$anonfun$apply$1(Future.scala:653)</span>\n",
       "        </div>\n",
       "        <div class=\"stacktraceline\">\n",
       "          <span>scala.util.Success.$anonfun$map$1(Try.scala:251)</span>\n",
       "        </div>\n",
       "        <div class=\"stacktraceline\">\n",
       "          <span>scala.util.Success.map(Try.scala:209)</span>\n",
       "        </div>\n",
       "        <div class=\"stacktraceline\">\n",
       "          <span>scala.concurrent.Future.$anonfun$map$1(Future.scala:287)</span>\n",
       "        </div>\n",
       "        <div class=\"stacktraceline\">\n",
       "          <span>scala.concurrent.impl.Promise.liftedTree1$1(Promise.scala:29)</span>\n",
       "        </div>\n",
       "        <div class=\"stacktraceline\">\n",
       "          <span>scala.concurrent.impl.Promise.$anonfun$transform$1(Promise.scala:29)</span>\n",
       "        </div>\n",
       "        <div class=\"stacktraceline\">\n",
       "          <span>scala.concurrent.impl.CallbackRunnable.run(Promise.scala:60)</span>\n",
       "        </div>\n",
       "        <div class=\"stacktraceline\">\n",
       "          <span>tiscaf.sync.SyncQuExecutionContext$$anon$1.run(SyncQuExecutionContext.scala:69)</span>\n",
       "        </div>\n",
       "      </div>\n",
       "    </div>\n",
       "  </div>\n",
       "</div>\n",
       "\n"
      ]
     },
     "metadata": {},
     "output_type": "display_data"
    }
   ],
   "source": [
    "k = x \\cdot x"
   ]
  },
  {
   "cell_type": "code",
   "execution_count": 7,
   "metadata": {},
   "outputs": [
    {
     "data": {
      "text/markdown": [
       "f = x\n",
       "α = -5.0\n",
       "\n",
       "\n",
       "\n",
       "Let's talk about your partial differential equation(s). What do they look like? Δu = 0.0, or laplace_operator Ω ℝ u = f ?\n"
      ]
     },
     "metadata": {},
     "output_type": "display_data"
    }
   ],
   "source": [
    "n"
   ]
  },
  {
   "cell_type": "code",
   "execution_count": 8,
   "metadata": {
    "scrolled": true
   },
   "outputs": [
    {
     "data": {
      "text/markdown": [
       "Ok, <result>\n",
       "  <xml>\n",
       "    <theory meta=\"http://mathhub.info/MitM/Foundation?Logic\" base=\"http://mathhub.info/MitM/smglom/calculus/differentialequations\" name=\"ephpde1\">\n",
       "        \n",
       "        \n",
       "        <import from=\"http://mathhub.info/MitM/smglom/calculus/differentialequations?mDifferentialOperators\"><metadata><link resource=\"http://mathhub.info/MitM/smglom/calculus/differentialequations#0.0.0:31.0.31\" rel=\"http://cds.omdoc.org/mmt?metadata?sourceRef\"/></metadata></import><import from=\"http://mathhub.info/MitM/smglom/calculus/differentialequations?T\"><metadata><link resource=\"http://mathhub.info/MitM/smglom/calculus/differentialequations#0.0.0:10.0.10\" rel=\"http://cds.omdoc.org/mmt?metadata?sourceRef\"/></metadata></import><import from=\"http://mathhub.info/MitM/smglom/calculus/differentialequations?f\"><metadata><link resource=\"http://mathhub.info/MitM/smglom/calculus/differentialequations#0.0.0:10.0.10\" rel=\"http://cds.omdoc.org/mmt?metadata?sourceRef\"/></metadata></import><import from=\"http://mathhub.info/MitM/smglom/calculus/differentialequations?&#945;\"><metadata><link resource=\"http://mathhub.info/MitM/smglom/calculus/differentialequations#0.0.0:10.0.10\" rel=\"http://cds.omdoc.org/mmt?metadata?sourceRef\"/></metadata></import><constant name=\"mylhs\">\n",
       "       <metadata><link resource=\"http://mathhub.info/MitM/smglom/calculus/differentialequations#1.0.1:34.0.34\" rel=\"http://cds.omdoc.org/mmt?metadata?sourceRef\"/></metadata>\n",
       "       <type><om:OMOBJ xmlns:om=\"http://www.openmath.org/OpenMath\"><om:OMBIND>\n",
       "                 <om:OMS name=\"Pi\" module=\"LambdaPi\" base=\"http://cds.omdoc.org/urtheories\"/>\n",
       "                 <om:OMBVAR><om:OMV name=\"anyT\"><type><om:OMA><metadata><link resource=\"http://mathhub.info/MitM/smglom/calculus/differentialequations#19.0.19:23.0.23\" rel=\"http://cds.omdoc.org/mmt?metadata?sourceRef\"/></metadata>\n",
       "              <om:OMS name=\"arrow\" module=\"LambdaPi\" base=\"http://cds.omdoc.org/urtheories\"/>\n",
       "              <om:OMS name=\"&#937;\" module=\"ephdomain\" base=\"http://mathhub.info/MitM/smglom/calculus/differentialequations\"/><om:OMS name=\"real_lit\" module=\"RealLiterals\" base=\"http://mathhub.info/MitM/Foundation\"/>\n",
       "      </om:OMA></type></om:OMV></om:OMBVAR>\n",
       "                 <om:OMA>\n",
       "              <om:OMS name=\"arrow\" module=\"LambdaPi\" base=\"http://cds.omdoc.org/urtheories\"/>\n",
       "              <om:OMS name=\"&#937;\" module=\"ephdomain\" base=\"http://mathhub.info/MitM/smglom/calculus/differentialequations\"/><om:OMS name=\"real_lit\" module=\"RealLiterals\" base=\"http://mathhub.info/MitM/Foundation\"/>\n",
       "      </om:OMA>\n",
       "      </om:OMBIND></om:OMOBJ></type>\n",
       "       <definition><om:OMOBJ xmlns:om=\"http://www.openmath.org/OpenMath\"><om:OMBIND><metadata><link resource=\"http://mathhub.info/MitM/smglom/calculus/differentialequations#10.0.10:32.0.32\" rel=\"http://cds.omdoc.org/mmt?metadata?sourceRef\"/></metadata>\n",
       "                 <om:OMS name=\"lambda\" module=\"LambdaPi\" base=\"http://cds.omdoc.org/urtheories\"/>\n",
       "                 <om:OMBVAR><om:OMV name=\"anyT\"><metadata><link resource=\"http://mathhub.info/MitM/smglom/calculus/differentialequations#12.0.12:15.0.15\" rel=\"http://cds.omdoc.org/mmt?metadata?sourceRef\"/></metadata><type><om:OMA><metadata><link resource=\"http://mathhub.info/MitM/smglom/calculus/differentialequations#19.0.19:23.0.23\" rel=\"http://cds.omdoc.org/mmt?metadata?sourceRef\"/></metadata>\n",
       "              <om:OMS name=\"arrow\" module=\"LambdaPi\" base=\"http://cds.omdoc.org/urtheories\"/>\n",
       "              <om:OMS name=\"&#937;\" module=\"ephdomain\" base=\"http://mathhub.info/MitM/smglom/calculus/differentialequations\"/><om:OMS name=\"real_lit\" module=\"RealLiterals\" base=\"http://mathhub.info/MitM/Foundation\"/>\n",
       "      </om:OMA></type></om:OMV></om:OMBVAR>\n",
       "                 <om:OMA><metadata><link resource=\"http://mathhub.info/MitM/smglom/calculus/differentialequations#27.0.27:32.0.32\" rel=\"http://cds.omdoc.org/mmt?metadata?sourceRef\"/></metadata>\n",
       "              <om:OMS name=\"apply\" module=\"LambdaPi\" base=\"http://cds.omdoc.org/urtheories\"/>\n",
       "              <om:OMS name=\"laplace_operator\" module=\"mDifferentialOperators\" base=\"http://mathhub.info/MitM/smglom/calculus/differentialequations\"/><om:OMS name=\"&#937;\" module=\"ephdomain\" base=\"http://mathhub.info/MitM/smglom/calculus/differentialequations\"/><om:OMS name=\"real_lit\" module=\"RealLiterals\" base=\"http://mathhub.info/MitM/Foundation\"/><om:OMV name=\"anyT\"><metadata><link resource=\"http://mathhub.info/MitM/smglom/calculus/differentialequations#29.0.29:32.0.32\" rel=\"http://cds.omdoc.org/mmt?metadata?sourceRef\"/></metadata></om:OMV>\n",
       "      </om:OMA>\n",
       "      </om:OMBIND></om:OMOBJ></definition>\n",
       "       \n",
       "     </constant><constant name=\"myrhs\">\n",
       "       <metadata><link resource=\"http://mathhub.info/MitM/smglom/calculus/differentialequations#1.0.1:11.0.11\" rel=\"http://cds.omdoc.org/mmt?metadata?sourceRef\"/></metadata>\n",
       "       <type><om:OMOBJ xmlns:om=\"http://www.openmath.org/OpenMath\"><om:OMBIND>\n",
       "                 <om:OMS name=\"Pi\" module=\"LambdaPi\" base=\"http://cds.omdoc.org/urtheories\"/>\n",
       "                 <om:OMBVAR><om:OMV name=\"x\"><type><om:OMS name=\"&#937;\" module=\"ephdomain\" base=\"http://mathhub.info/MitM/smglom/calculus/differentialequations\"><metadata><link resource=\"http://mathhub.info/MitM/smglom/calculus/differentialequations#10.0.10:10.0.10\" rel=\"http://cds.omdoc.org/mmt?metadata?sourceRef\"/></metadata></om:OMS></type></om:OMV></om:OMBVAR>\n",
       "                 <om:OMS name=\"real_lit\" module=\"RealLiterals\" base=\"http://mathhub.info/MitM/Foundation\"><metadata><link resource=\"http://mathhub.info/MitM/Foundation/math.mmt#4573.137.32:4580.137.39\" rel=\"http://cds.omdoc.org/mmt?metadata?sourceRef\"/></metadata></om:OMS>\n",
       "      </om:OMBIND></om:OMOBJ></type>\n",
       "       <definition><om:OMOBJ xmlns:om=\"http://www.openmath.org/OpenMath\"><om:OMS name=\"&#945;\" module=\"&#945;\" base=\"http://mathhub.info/MitM/smglom/calculus/differentialequations\"><metadata><link resource=\"http://mathhub.info/MitM/smglom/calculus/differentialequations#10.0.10:10.0.10\" rel=\"http://cds.omdoc.org/mmt?metadata?sourceRef\"/></metadata></om:OMS></om:OMOBJ></definition>\n",
       "       \n",
       "     </constant>\n",
       "      </theory>\n",
       "  </xml>\n",
       "</result>\n",
       "\n",
       "\n",
       "\n",
       "\n",
       "These are all the PDEs needed.\n",
       "Let's discuss your boundary conditions. What do they look like? u(x) = f(x) or u(1.0) = \\alpha ?\n"
      ]
     },
     "metadata": {},
     "output_type": "display_data"
    }
   ],
   "source": [
    "ΔT = \\alpha"
   ]
  },
  {
   "cell_type": "code",
   "execution_count": 9,
   "metadata": {},
   "outputs": [
    {
     "data": {
      "text/markdown": [
       "I did not catch that. Could you please rephrase?\n",
       "Details: MMT server error: invalid unit: http://mathhub.info/MitM/smglom/calculus/differentialequations?ephbcsASmBCsRequired?[http://mathhub.info/MitM/smglom/calculus/differentialequations?mBCsRequired]/firstBC?definition: Judgment  |- solutionatboundaryis f : myUnkType⟶prop. <div xmlns=\"http://www.w3.org/1999/xhtml\">\n",
       "  <div>\n",
       "    <div class=\"error\">\n",
       "      <div><span class=\"name\">info.kwarc.mmt.api.InvalidUnit</span> of level <span class=\"level\">2</span></div>\n",
       "      <div class=\"message\">invalid unit: http://mathhub.info/MitM/smglom/calculus/differentialequations?ephbcsASmBCsRequired?[http://mathhub.info/MitM/smglom/calculus/differentialequations?mBCsRequired]/firstBC?definition: Judgment  |- solutionatboundaryis f : myUnkType&#10230;prop</div>\n",
       "      <div class=\"stacktrace\">\n",
       "        <div class=\"stacktraceline\">\n",
       "          <span>info.kwarc.mmt.api.checking.RuleBasedChecker.$anonfun$apply$14(RuleBasedChecker.scala:92)</span>\n",
       "        </div>\n",
       "        <div class=\"stacktraceline\">\n",
       "          <span>info.kwarc.mmt.api.checking.RuleBasedChecker.$anonfun$apply$14$adapted(RuleBasedChecker.scala:91)</span>\n",
       "        </div>\n",
       "        <div class=\"stacktraceline\">\n",
       "          <span>scala.collection.immutable.List.foreach(List.scala:389)</span>\n",
       "        </div>\n",
       "        <div class=\"stacktraceline\">\n",
       "          <span>info.kwarc.mmt.api.checking.RuleBasedChecker.$anonfun$apply$13(RuleBasedChecker.scala:91)</span>\n",
       "        </div>\n",
       "        <div class=\"stacktraceline\">\n",
       "          <span>scala.runtime.java8.JFunction0$mcV$sp.apply(JFunction0$mcV$sp.java:12)</span>\n",
       "        </div>\n",
       "        <div class=\"stacktraceline\">\n",
       "          <span>info.kwarc.mmt.api.frontend.Logger.logGroup(Log.scala:34)</span>\n",
       "        </div>\n",
       "        <div class=\"stacktraceline\">\n",
       "          <span>info.kwarc.mmt.api.frontend.Logger.logGroup$(Log.scala:31)</span>\n",
       "        </div>\n",
       "        <div class=\"stacktraceline\">\n",
       "          <span>info.kwarc.mmt.api.checking.RuleBasedChecker.logGroup(RuleBasedChecker.scala:17)</span>\n",
       "        </div>\n",
       "        <div class=\"stacktraceline\">\n",
       "          <span>info.kwarc.mmt.api.checking.RuleBasedChecker.apply(RuleBasedChecker.scala:88)</span>\n",
       "        </div>\n",
       "        <div class=\"stacktraceline\">\n",
       "          <span>info.kwarc.mmt.api.checking.MMTStructureChecker.$anonfun$check$15(MMTStructureChecker.scala:297)</span>\n",
       "        </div>\n",
       "        <div class=\"stacktraceline\">\n",
       "          <span>info.kwarc.mmt.api.checking.MMTStructureChecker.$anonfun$check$15$adapted(MMTStructureChecker.scala:273)</span>\n",
       "        </div>\n",
       "        <div class=\"stacktraceline\">\n",
       "          <span>scala.Option.foreach(Option.scala:257)</span>\n",
       "        </div>\n",
       "        <div class=\"stacktraceline\">\n",
       "          <span>info.kwarc.mmt.api.checking.MMTStructureChecker.check(MMTStructureChecker.scala:273)</span>\n",
       "        </div>\n",
       "        <div class=\"stacktraceline\">\n",
       "          <span>info.kwarc.mmt.api.checking.MMTStructureChecker.applyElementBegin(MMTStructureChecker.scala:72)</span>\n",
       "        </div>\n",
       "        <div class=\"stacktraceline\">\n",
       "          <span>info.kwarc.mmt.interviews.InterviewServer$$anon$1.onElement(InterviewServer.scala:94)</span>\n",
       "        </div>\n",
       "        <div class=\"stacktraceline\">\n",
       "          <span>info.kwarc.mmt.api.parser.KeywordBasedParser.seCont(StructureParser.scala:97)</span>\n",
       "        </div>\n",
       "        <div class=\"stacktraceline\">\n",
       "          <span>info.kwarc.mmt.api.parser.KeywordBasedParser.addDeclaration$1(StructureParser.scala:479)</span>\n",
       "        </div>\n",
       "        <div class=\"stacktraceline\">\n",
       "          <span>info.kwarc.mmt.api.parser.KeywordBasedParser.readInModuleAux(StructureParser.scala:631)</span>\n",
       "        </div>\n",
       "        <div class=\"stacktraceline\">\n",
       "          <span>info.kwarc.mmt.api.parser.KeywordBasedParser.readInModule(StructureParser.scala:457)</span>\n",
       "        </div>\n",
       "        <div class=\"stacktraceline\">\n",
       "          <span>info.kwarc.mmt.interviews.InterviewServer.parseDecl(InterviewServer.scala:102)</span>\n",
       "        </div>\n",
       "        <div class=\"stacktraceline\">\n",
       "          <span>info.kwarc.mmt.interviews.InterviewServer.apply(InterviewServer.scala:50)</span>\n",
       "        </div>\n",
       "        <div class=\"stacktraceline\">\n",
       "          <span>info.kwarc.mmt.api.web.Server.resolveExtension(Server.scala:95)</span>\n",
       "        </div>\n",
       "        <div class=\"stacktraceline\">\n",
       "          <span>info.kwarc.mmt.api.web.Server.resolve(Server.scala:76)</span>\n",
       "        </div>\n",
       "        <div class=\"stacktraceline\">\n",
       "          <span>info.kwarc.mmt.api.web.Server.handleRequest(Server.scala:53)</span>\n",
       "        </div>\n",
       "        <div class=\"stacktraceline\">\n",
       "          <span>info.kwarc.mmt.api.web.TiscafServerImplementation$RequestHandler$$anon$1.act(TiscafServerImplementation.scala:49)</span>\n",
       "        </div>\n",
       "        <div class=\"stacktraceline\">\n",
       "          <span>tiscaf.HSimpleLet.aact(HLet.scala:166)</span>\n",
       "        </div>\n",
       "        <div class=\"stacktraceline\">\n",
       "          <span>tiscaf.HSimpleLet.aact$(HLet.scala:165)</span>\n",
       "        </div>\n",
       "        <div class=\"stacktraceline\">\n",
       "          <span>info.kwarc.mmt.api.web.TiscafServerImplementation$RequestHandler$$anon$1.aact(TiscafServerImplementation.scala:47)</span>\n",
       "        </div>\n",
       "        <div class=\"stacktraceline\">\n",
       "          <span>tiscaf.HAcceptor.talk(HAcceptor.scala:246)</span>\n",
       "        </div>\n",
       "        <div class=\"stacktraceline\">\n",
       "          <span>tiscaf.HSimplePeer.doTalkItself$1(HPeer.scala:101)</span>\n",
       "        </div>\n",
       "        <div class=\"stacktraceline\">\n",
       "          <span>tiscaf.HSimplePeer.$anonfun$readChannel$1(HPeer.scala:114)</span>\n",
       "        </div>\n",
       "        <div class=\"stacktraceline\">\n",
       "          <span>scala.runtime.java8.JFunction0$mcV$sp.apply(JFunction0$mcV$sp.java:12)</span>\n",
       "        </div>\n",
       "        <div class=\"stacktraceline\">\n",
       "          <span>scala.concurrent.Future$.$anonfun$apply$1(Future.scala:653)</span>\n",
       "        </div>\n",
       "        <div class=\"stacktraceline\">\n",
       "          <span>scala.util.Success.$anonfun$map$1(Try.scala:251)</span>\n",
       "        </div>\n",
       "        <div class=\"stacktraceline\">\n",
       "          <span>scala.util.Success.map(Try.scala:209)</span>\n",
       "        </div>\n",
       "        <div class=\"stacktraceline\">\n",
       "          <span>scala.concurrent.Future.$anonfun$map$1(Future.scala:287)</span>\n",
       "        </div>\n",
       "        <div class=\"stacktraceline\">\n",
       "          <span>scala.concurrent.impl.Promise.liftedTree1$1(Promise.scala:29)</span>\n",
       "        </div>\n",
       "        <div class=\"stacktraceline\">\n",
       "          <span>scala.concurrent.impl.Promise.$anonfun$transform$1(Promise.scala:29)</span>\n",
       "        </div>\n",
       "        <div class=\"stacktraceline\">\n",
       "          <span>scala.concurrent.impl.CallbackRunnable.run(Promise.scala:60)</span>\n",
       "        </div>\n",
       "        <div class=\"stacktraceline\">\n",
       "          <span>tiscaf.sync.SyncQuExecutionContext$$anon$1.run(SyncQuExecutionContext.scala:69)</span>\n",
       "        </div>\n",
       "      </div>\n",
       "    </div>\n",
       "  </div>\n",
       "</div>\n",
       "\n"
      ]
     },
     "metadata": {},
     "output_type": "display_data"
    }
   ],
   "source": [
    "T = f"
   ]
  },
  {
   "cell_type": "code",
   "execution_count": 10,
   "metadata": {},
   "outputs": [
    {
     "data": {
      "text/markdown": [
       "I did not catch that. Could you please rephrase?\n",
       "Details: Interview error: This does not look like a boundary condition.\n"
      ]
     },
     "metadata": {},
     "output_type": "display_data"
    }
   ],
   "source": [
    "linear"
   ]
  },
  {
   "cell_type": "code",
   "execution_count": 11,
   "metadata": {},
   "outputs": [
    {
     "data": {
      "text/markdown": [
       "I did not catch that. Could you please rephrase?\n",
       "Details: Interview error: This does not look like a boundary condition.\n"
      ]
     },
     "metadata": {},
     "output_type": "display_data"
    }
   ],
   "source": [
    "elliptic"
   ]
  },
  {
   "cell_type": "code",
   "execution_count": 12,
   "metadata": {},
   "outputs": [
    {
     "data": {
      "text/markdown": [
       "I did not catch that. Could you please rephrase?\n",
       "Details: Interview error: This does not look like a boundary condition.\n"
      ]
     },
     "metadata": {},
     "output_type": "display_data"
    }
   ],
   "source": [
    "n"
   ]
  },
  {
   "cell_type": "code",
   "execution_count": null,
   "metadata": {},
   "outputs": [],
   "source": []
  },
  {
   "cell_type": "code",
   "execution_count": 13,
   "metadata": {
    "scrolled": false
   },
   "outputs": [
    {
     "data": {
      "text/html": [
       "\n",
       "            <iframe \n",
       "                src=\"http://localhost:35077/graphs/tgview.html?type=mpd&graphdata=http%3A%2F%2Fmathhub.info%2FMitM%2Fsmglom%2Fcalculus%2Fdifferentialequations%3FModel&viewOnlyMode=true\" \n",
       "                style=\"width: 100%; height: 510px; border: none\"\n",
       "            >\n",
       "            </iframe>\n",
       "        "
      ],
      "text/plain": [
       "<IPython.core.display.HTML object>"
      ]
     },
     "metadata": {},
     "output_type": "display_data"
    },
    {
     "data": {
      "text/markdown": [
       "I did not catch that. Could you please rephrase?\n",
       "Details: MMT server error: invalid unit: http://mathhub.info/MitM/smglom/calculus/differentialequations?MPD_f?proof_f?type: Judgment  |- ⊦(oneOf  /A/0 f f)≐[x:Ω]x INHABITABLE. <div xmlns=\"http://www.w3.org/1999/xhtml\">\n",
       "  <div>\n",
       "    <div class=\"error\">\n",
       "      <div><span class=\"name\">info.kwarc.mmt.api.InvalidUnit</span> of level <span class=\"level\">2</span></div>\n",
       "      <div class=\"message\">invalid unit: http://mathhub.info/MitM/smglom/calculus/differentialequations?MPD_f?proof_f?type: Judgment  |- &#8870;(oneOf  /A/0 f f)&#8784;[x:&#937;]x INHABITABLE</div>\n",
       "      <div class=\"stacktrace\">\n",
       "        <div class=\"stacktraceline\">\n",
       "          <span>info.kwarc.mmt.api.checking.RuleBasedChecker.$anonfun$apply$15(RuleBasedChecker.scala:97)</span>\n",
       "        </div>\n",
       "        <div class=\"stacktraceline\">\n",
       "          <span>info.kwarc.mmt.api.checking.RuleBasedChecker.$anonfun$apply$15$adapted(RuleBasedChecker.scala:95)</span>\n",
       "        </div>\n",
       "        <div class=\"stacktraceline\">\n",
       "          <span>scala.collection.immutable.List.foreach(List.scala:389)</span>\n",
       "        </div>\n",
       "        <div class=\"stacktraceline\">\n",
       "          <span>info.kwarc.mmt.api.checking.RuleBasedChecker.$anonfun$apply$13(RuleBasedChecker.scala:95)</span>\n",
       "        </div>\n",
       "        <div class=\"stacktraceline\">\n",
       "          <span>scala.runtime.java8.JFunction0$mcV$sp.apply(JFunction0$mcV$sp.java:12)</span>\n",
       "        </div>\n",
       "        <div class=\"stacktraceline\">\n",
       "          <span>info.kwarc.mmt.api.frontend.Logger.logGroup(Log.scala:34)</span>\n",
       "        </div>\n",
       "        <div class=\"stacktraceline\">\n",
       "          <span>info.kwarc.mmt.api.frontend.Logger.logGroup$(Log.scala:31)</span>\n",
       "        </div>\n",
       "        <div class=\"stacktraceline\">\n",
       "          <span>info.kwarc.mmt.api.checking.RuleBasedChecker.logGroup(RuleBasedChecker.scala:17)</span>\n",
       "        </div>\n",
       "        <div class=\"stacktraceline\">\n",
       "          <span>info.kwarc.mmt.api.checking.RuleBasedChecker.apply(RuleBasedChecker.scala:88)</span>\n",
       "        </div>\n",
       "        <div class=\"stacktraceline\">\n",
       "          <span>info.kwarc.mmt.api.checking.MMTStructureChecker.checkInhabitable$1(MMTStructureChecker.scala:245)</span>\n",
       "        </div>\n",
       "        <div class=\"stacktraceline\">\n",
       "          <span>info.kwarc.mmt.api.checking.MMTStructureChecker.$anonfun$check$13(MMTStructureChecker.scala:253)</span>\n",
       "        </div>\n",
       "        <div class=\"stacktraceline\">\n",
       "          <span>info.kwarc.mmt.api.checking.MMTStructureChecker.$anonfun$check$13$adapted(MMTStructureChecker.scala:250)</span>\n",
       "        </div>\n",
       "        <div class=\"stacktraceline\">\n",
       "          <span>scala.Option.foreach(Option.scala:257)</span>\n",
       "        </div>\n",
       "        <div class=\"stacktraceline\">\n",
       "          <span>info.kwarc.mmt.api.checking.MMTStructureChecker.check(MMTStructureChecker.scala:250)</span>\n",
       "        </div>\n",
       "        <div class=\"stacktraceline\">\n",
       "          <span>info.kwarc.mmt.api.checking.MMTStructureChecker.applyElementBegin(MMTStructureChecker.scala:72)</span>\n",
       "        </div>\n",
       "        <div class=\"stacktraceline\">\n",
       "          <span>info.kwarc.mmt.interviews.InterviewServer$$anon$1.onElement(InterviewServer.scala:94)</span>\n",
       "        </div>\n",
       "        <div class=\"stacktraceline\">\n",
       "          <span>info.kwarc.mmt.api.parser.KeywordBasedParser.seCont(StructureParser.scala:97)</span>\n",
       "        </div>\n",
       "        <div class=\"stacktraceline\">\n",
       "          <span>info.kwarc.mmt.api.parser.KeywordBasedParser.addDeclaration$1(StructureParser.scala:479)</span>\n",
       "        </div>\n",
       "        <div class=\"stacktraceline\">\n",
       "          <span>info.kwarc.mmt.api.parser.KeywordBasedParser.readInModuleAux(StructureParser.scala:631)</span>\n",
       "        </div>\n",
       "        <div class=\"stacktraceline\">\n",
       "          <span>info.kwarc.mmt.api.parser.KeywordBasedParser.readInModule(StructureParser.scala:457)</span>\n",
       "        </div>\n",
       "        <div class=\"stacktraceline\">\n",
       "          <span>info.kwarc.mmt.interviews.InterviewServer.parseDecl(InterviewServer.scala:102)</span>\n",
       "        </div>\n",
       "        <div class=\"stacktraceline\">\n",
       "          <span>info.kwarc.mmt.interviews.InterviewServer.apply(InterviewServer.scala:50)</span>\n",
       "        </div>\n",
       "        <div class=\"stacktraceline\">\n",
       "          <span>info.kwarc.mmt.api.web.Server.resolveExtension(Server.scala:95)</span>\n",
       "        </div>\n",
       "        <div class=\"stacktraceline\">\n",
       "          <span>info.kwarc.mmt.api.web.Server.resolve(Server.scala:76)</span>\n",
       "        </div>\n",
       "        <div class=\"stacktraceline\">\n",
       "          <span>info.kwarc.mmt.api.web.Server.handleRequest(Server.scala:53)</span>\n",
       "        </div>\n",
       "        <div class=\"stacktraceline\">\n",
       "          <span>info.kwarc.mmt.api.web.TiscafServerImplementation$RequestHandler$$anon$1.act(TiscafServerImplementation.scala:49)</span>\n",
       "        </div>\n",
       "        <div class=\"stacktraceline\">\n",
       "          <span>tiscaf.HSimpleLet.aact(HLet.scala:166)</span>\n",
       "        </div>\n",
       "        <div class=\"stacktraceline\">\n",
       "          <span>tiscaf.HSimpleLet.aact$(HLet.scala:165)</span>\n",
       "        </div>\n",
       "        <div class=\"stacktraceline\">\n",
       "          <span>info.kwarc.mmt.api.web.TiscafServerImplementation$RequestHandler$$anon$1.aact(TiscafServerImplementation.scala:47)</span>\n",
       "        </div>\n",
       "        <div class=\"stacktraceline\">\n",
       "          <span>tiscaf.HAcceptor.talk(HAcceptor.scala:246)</span>\n",
       "        </div>\n",
       "        <div class=\"stacktraceline\">\n",
       "          <span>tiscaf.HSimplePeer.doTalkItself$1(HPeer.scala:101)</span>\n",
       "        </div>\n",
       "        <div class=\"stacktraceline\">\n",
       "          <span>tiscaf.HSimplePeer.$anonfun$readChannel$1(HPeer.scala:114)</span>\n",
       "        </div>\n",
       "        <div class=\"stacktraceline\">\n",
       "          <span>scala.runtime.java8.JFunction0$mcV$sp.apply(JFunction0$mcV$sp.java:12)</span>\n",
       "        </div>\n",
       "        <div class=\"stacktraceline\">\n",
       "          <span>scala.concurrent.Future$.$anonfun$apply$1(Future.scala:653)</span>\n",
       "        </div>\n",
       "        <div class=\"stacktraceline\">\n",
       "          <span>scala.util.Success.$anonfun$map$1(Try.scala:251)</span>\n",
       "        </div>\n",
       "        <div class=\"stacktraceline\">\n",
       "          <span>scala.util.Success.map(Try.scala:209)</span>\n",
       "        </div>\n",
       "        <div class=\"stacktraceline\">\n",
       "          <span>scala.concurrent.Future.$anonfun$map$1(Future.scala:287)</span>\n",
       "        </div>\n",
       "        <div class=\"stacktraceline\">\n",
       "          <span>scala.concurrent.impl.Promise.liftedTree1$1(Promise.scala:29)</span>\n",
       "        </div>\n",
       "        <div class=\"stacktraceline\">\n",
       "          <span>scala.concurrent.impl.Promise.$anonfun$transform$1(Promise.scala:29)</span>\n",
       "        </div>\n",
       "        <div class=\"stacktraceline\">\n",
       "          <span>scala.concurrent.impl.CallbackRunnable.run(Promise.scala:60)</span>\n",
       "        </div>\n",
       "        <div class=\"stacktraceline\">\n",
       "          <span>tiscaf.sync.SyncQuExecutionContext$$anon$1.run(SyncQuExecutionContext.scala:69)</span>\n",
       "        </div>\n",
       "      </div>\n",
       "    </div>\n",
       "  </div>\n",
       "</div>\n",
       "\n"
      ]
     },
     "metadata": {},
     "output_type": "display_data"
    }
   ],
   "source": [
    "tgview mpd"
   ]
  },
  {
   "cell_type": "code",
   "execution_count": 14,
   "metadata": {},
   "outputs": [
    {
     "data": {
      "text/markdown": [
       "These are the things we know so far about your problem:\n",
       "\n",
       "\n",
       "\n",
       "\n",
       "\n",
       "\n",
       "domain: {'name': 'Ω', 'theoryname': 'ephdomain', 'axes': OrderedDict([('x', '[0.0;1.0]')]), 'from': '0.0', 'to': '1.0', 'boundary_name': 'Ω', 'viewname': 'ephdomainASmDomain'}\n",
       "\n",
       "\n",
       "\n",
       "\n",
       "\n",
       "\n",
       "unknowns: OrderedDict([('T', {'theoryname': 'T', 'string': 'T : Ω ⟶ ℝ', 'type': 'Ω ⟶ ℝ', 'codomain': 'ℝ', 'viewname': 'TASmUnknown'})])\n",
       "\n",
       "\n",
       "\n",
       "\n",
       "\n",
       "\n",
       "parameters: OrderedDict([('f', {'theoryname': 'f', 'string': 'f = x', 'parsestring': 'f = [ x : Ω] x', 'type': '{ : Ω } Ω', 'viewname': 'fASmParameter'}), ('α', {'theoryname': 'α', 'string': 'α = -5.0', 'parsestring': 'α = [ x : Ω] -5.0', 'type': '{ : Ω } ℝ', 'viewname': 'αASmParameter'})])\n",
       "\n",
       "\n",
       "\n",
       "\n",
       "\n",
       "\n",
       "pdes: {'pdes': [{'theoryname': 'ephpde1', 'string': 'ΔT = α', 'lhsstring': 'ΔT', 'rhsstring': 'α', 'rhsstring_expanded': '-5.0', 'viewname': 'ephpde1ASmPDE', 'op': 'Δ', 'lhsparsestring': ' [ anyT : Ω ⟶ ℝ ] Δ anyT ', 'rhsparsestring': ' α'}]}\n",
       "\n",
       "\n",
       "\n",
       "\n",
       "\n",
       "\n",
       "bcs: {'theoryname': 'ephbcs', 'bcs': [{'name': 'bc0', 'string': 'T = f', 'lhsstring': 'T', 'rhsstring': 'f', 'rhsstring_expanded': 'x'}, {'name': 'bc1'}, {'name': 'bc2'}, {'name': 'bc3'}], 'viewname': 'ephbcsASmBCsRequired', 'measure_given': 0}\n"
      ]
     },
     "metadata": {},
     "output_type": "display_data"
    }
   ],
   "source": [
    "recap"
   ]
  },
  {
   "cell_type": "code",
   "execution_count": 15,
   "metadata": {},
   "outputs": [
    {
     "name": "stdout",
     "output_type": "stream",
     "text": [
      "{\n",
      "  \"stdin_port\": UNKNOWN,\n",
      "  \"shell_port\": UNKNOWN,\n",
      "  \"iopub_port\": UNKNOWN,\n",
      "  \"hb_port\": UNKNOWN,\n",
      "  \"ip\": \"UNKNOWN\",\n",
      "  \"key\": \"UNKNOWN\",\n",
      "  \"signature_scheme\": \"UNKNOWN\",\n",
      "  \"transport\": \"UNKNOWN\"\n",
      "}\n",
      "\n",
      "Paste the above JSON into a file, and connect with:\n",
      "    $> ipython <app> --existing <file>\n",
      "or, if you are local, you can connect with just:\n",
      "    $> ipython <app> --existing UNKNOWN\n",
      "\n",
      "or even just:\n",
      "    $> ipython <app> --existing\n",
      "if this is the most recent Jupyter session you have started.\n",
      "\n"
     ]
    }
   ],
   "source": [
    "%connect_info"
   ]
  },
  {
   "cell_type": "code",
   "execution_count": null,
   "metadata": {},
   "outputs": [],
   "source": []
  },
  {
   "cell_type": "code",
   "execution_count": null,
   "metadata": {},
   "outputs": [],
   "source": []
  }
 ],
 "metadata": {
  "kernelspec": {
   "display_name": "TheInterview",
   "language": "text",
   "name": "interview"
  },
  "language_info": {
   "file_extension": ".txt",
   "help_links": [
    {
     "text": "MetaKernel Magics",
     "url": "https://github.com/calysto/metakernel/blob/master/metakernel/magics/README.md"
    }
   ],
   "mimetype": "text/plain",
   "name": "text"
  }
 },
 "nbformat": 4,
 "nbformat_minor": 2
}
