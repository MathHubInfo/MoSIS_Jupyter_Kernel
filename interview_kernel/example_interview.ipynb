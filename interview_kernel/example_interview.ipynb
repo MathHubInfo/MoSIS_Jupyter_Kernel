{
 "cells": [
  {
   "cell_type": "markdown",
   "metadata": {},
   "source": [
    "**Hello, freifrau! I am TheInterview, your partial differential equations and simulations expert.**\n",
    "Let's set up a model and simulation together.\n",
    "\n",
    "To get explanations, enter `explain <optional keyword>`. \n",
    "To see a recap of what we know so far, enter `recap <optional keyword>`. \n",
    "To interactively visualize the current theory graph, enter `tgwiev` or `tgview mpd`. \n",
    "Otherwise, you can always answer with LaTeX-type input.\n",
    "\n",
    "\n",
    "## Modeling\n",
    "\n",
    "\n",
    "\n",
    "How many dimensions does your model have?\n",
    "\n",
    "\n",
    "\n",
    "I am just assuming it's 1, since that is all we can currently handle.\n",
    "\n",
    "\n",
    "\n",
    "\n",
    "\n",
    "\n",
    "What is the domain in your model?     Ω : type ❘ = [?;?], e.g. `\\Omega = [0.0;1.0]`"
   ]
  },
  {
   "cell_type": "code",
   "execution_count": 1,
   "metadata": {},
   "outputs": [
    {
     "data": {
      "text/markdown": [
       "we will just assume that the variable is called x for now.\n",
       "\n",
       "\n",
       "\n",
       "Which variable(s) are you looking for? / What are the unknowns in your model?  u : Ω ⟶ ??,  e.g., u : Ω ⟶ ℝ ?\n"
      ]
     },
     "metadata": {},
     "output_type": "display_data"
    }
   ],
   "source": [
    "Ω = [0.0;1.0]\n"
   ]
  },
  {
   "cell_type": "code",
   "execution_count": 2,
   "metadata": {},
   "outputs": [
    {
     "data": {
      "text/markdown": [
       "Ok, t : Ω ⟶ ℝ\n",
       "\n",
       "\n",
       "\n",
       "Would you like to name additional parameters like constants or functions (that are independent of your             unknowns)?  c : ℝ = ? or f : Ω ⟶ ℝ = ?\n"
      ]
     },
     "metadata": {},
     "output_type": "display_data"
    }
   ],
   "source": [
    "t : Ω ⟶ ℝ"
   ]
  },
  {
   "cell_type": "code",
   "execution_count": 3,
   "metadata": {},
   "outputs": [
    {
     "data": {
      "text/markdown": [
       "Ok, f = [ x : Ω] x\n",
       "\n",
       "\n",
       "\n",
       "Would you like to declare more parameters?\n"
      ]
     },
     "metadata": {},
     "output_type": "display_data"
    }
   ],
   "source": [
    "f = x"
   ]
  },
  {
   "cell_type": "code",
   "execution_count": 4,
   "metadata": {},
   "outputs": [
    {
     "data": {
      "text/markdown": [
       "Ok, κ = [ x : Ω] -5.0\n",
       "\n",
       "\n",
       "\n",
       "Would you like to declare more parameters?\n"
      ]
     },
     "metadata": {},
     "output_type": "display_data"
    }
   ],
   "source": [
    "\\kappa = -5.0"
   ]
  },
  {
   "cell_type": "code",
   "execution_count": 5,
   "metadata": {},
   "outputs": [
    {
     "data": {
      "text/markdown": []
     },
     "metadata": {},
     "output_type": "display_data"
    }
   ],
   "source": [
    "y"
   ]
  },
  {
   "cell_type": "code",
   "execution_count": 6,
   "metadata": {
    "scrolled": true
   },
   "outputs": [
    {
     "data": {
      "text/markdown": [
       "Ok, k = [ x : Ω] x ⋅ x\n",
       "\n",
       "\n",
       "\n",
       "Would you like to declare more parameters?\n"
      ]
     },
     "metadata": {},
     "output_type": "display_data"
    }
   ],
   "source": [
    "k = x ⋅ x"
   ]
  },
  {
   "cell_type": "code",
   "execution_count": 7,
   "metadata": {},
   "outputs": [
    {
     "data": {
      "text/markdown": [
       "These are the things we know so far about your problem:\n",
       "\n",
       "\n",
       "\n",
       "\n",
       "\n",
       "\n",
       "domain: {'name': 'Ω', 'theoryname': 'ephdomain', 'axes': OrderedDict([('x', '[0.0;1.0]')]), 'from': '0.0', 'to': '1.0', 'boundary_name': 'Ω', 'viewname': 'ephdomainASmDomain'}\n",
       "\n",
       "\n",
       "\n",
       "\n",
       "\n",
       "\n",
       "unknowns: OrderedDict([('t', {'theoryname': 't', 'string': 't : Ω ⟶ ℝ', 'type': 'Ω ⟶ ℝ', 'codomain': 'ℝ', 'viewname': 'tASmUnknown'})])\n",
       "\n",
       "\n",
       "\n",
       "\n",
       "\n",
       "\n",
       "parameters: OrderedDict([('f', {'theoryname': 'f', 'string': 'f = x', 'parsestring': 'f = [ x : Ω] x', 'type': '{ : Ω } Ω', 'viewname': 'fASmParameter'}), ('κ', {'theoryname': 'κ', 'string': 'κ = -5.0', 'parsestring': 'κ = [ x : Ω] -5.0', 'type': '{ : Ω } ℝ', 'viewname': 'κASmParameter'}), ('k', {'theoryname': 'k', 'string': 'k = x ⋅ x', 'parsestring': 'k = [ x : Ω] x ⋅ x', 'type': '{ : Ω } ℝ', 'viewname': 'kASmParameter'})])\n",
       "\n",
       "\n",
       "\n",
       "\n",
       "\n",
       "\n",
       "You can inspect the persistently loaded MMT theories under http://localhost:9000\n"
      ]
     },
     "metadata": {},
     "output_type": "display_data"
    }
   ],
   "source": [
    "recap"
   ]
  },
  {
   "cell_type": "code",
   "execution_count": 8,
   "metadata": {},
   "outputs": [
    {
     "data": {
      "text/markdown": [
       "f = x\n",
       "κ = -5.0\n",
       "k = x ⋅ x\n",
       "\n",
       "\n",
       "\n",
       "Let's talk about your partial differential equation(s). What do they look like? Δu = 0.0, or laplace_operator Ω ℝ u = f ?\n"
      ]
     },
     "metadata": {},
     "output_type": "display_data"
    }
   ],
   "source": [
    "n"
   ]
  },
  {
   "cell_type": "code",
   "execution_count": 9,
   "metadata": {
    "scrolled": true
   },
   "outputs": [
    {
     "data": {
      "text/markdown": [
       "Ok, <result>\n",
       "  <xml>\n",
       "    <theory meta=\"http://mathhub.info/MitM/Foundation?Logic\" base=\"http://mathhub.info/MitM/smglom/calculus/differentialequations\" name=\"ephemeral_pde1\">\n",
       "        \n",
       "        \n",
       "        <import from=\"http://mathhub.info/MitM/smglom/calculus/differentialequations?mDifferentialOperators\"><metadata><link resource=\"http://mathhub.info/MitM/smglom/calculus/differentialequations#0.0.0:31.0.31\" rel=\"http://cds.omdoc.org/mmt?metadata?sourceRef\"/></metadata></import><import from=\"http://mathhub.info/MitM/smglom/calculus/differentialequations?t\"><metadata><link resource=\"http://mathhub.info/MitM/smglom/calculus/differentialequations#0.0.0:10.0.10\" rel=\"http://cds.omdoc.org/mmt?metadata?sourceRef\"/></metadata></import><import from=\"http://mathhub.info/MitM/smglom/calculus/differentialequations?f\"><metadata><link resource=\"http://mathhub.info/MitM/smglom/calculus/differentialequations#0.0.0:10.0.10\" rel=\"http://cds.omdoc.org/mmt?metadata?sourceRef\"/></metadata></import><import from=\"http://mathhub.info/MitM/smglom/calculus/differentialequations?&#954;\"><metadata><link resource=\"http://mathhub.info/MitM/smglom/calculus/differentialequations#0.0.0:10.0.10\" rel=\"http://cds.omdoc.org/mmt?metadata?sourceRef\"/></metadata></import><import from=\"http://mathhub.info/MitM/smglom/calculus/differentialequations?k\"><metadata><link resource=\"http://mathhub.info/MitM/smglom/calculus/differentialequations#0.0.0:10.0.10\" rel=\"http://cds.omdoc.org/mmt?metadata?sourceRef\"/></metadata></import><constant name=\"mylhs\">\n",
       "       <metadata><link resource=\"http://mathhub.info/MitM/smglom/calculus/differentialequations#1.0.1:34.0.34\" rel=\"http://cds.omdoc.org/mmt?metadata?sourceRef\"/></metadata>\n",
       "       <type><om:OMOBJ xmlns:om=\"http://www.openmath.org/OpenMath\"><om:OMBIND>\n",
       "                 <om:OMS name=\"Pi\" module=\"LambdaPi\" base=\"http://cds.omdoc.org/urtheories\"/>\n",
       "                 <om:OMBVAR><om:OMV name=\"anyt\"><type><om:OMA><metadata><link resource=\"http://mathhub.info/MitM/smglom/calculus/differentialequations#19.0.19:23.0.23\" rel=\"http://cds.omdoc.org/mmt?metadata?sourceRef\"/></metadata>\n",
       "              <om:OMS name=\"arrow\" module=\"LambdaPi\" base=\"http://cds.omdoc.org/urtheories\"/>\n",
       "              <om:OMS name=\"&#937;\" module=\"ephdomain\" base=\"http://mathhub.info/MitM/smglom/calculus/differentialequations\"/><om:OMS name=\"real_lit\" module=\"RealLiterals\" base=\"http://mathhub.info/MitM/Foundation\"/>\n",
       "      </om:OMA></type></om:OMV></om:OMBVAR>\n",
       "                 <om:OMA>\n",
       "              <om:OMS name=\"arrow\" module=\"LambdaPi\" base=\"http://cds.omdoc.org/urtheories\"/>\n",
       "              <om:OMS name=\"&#937;\" module=\"ephdomain\" base=\"http://mathhub.info/MitM/smglom/calculus/differentialequations\"/><om:OMS name=\"real_lit\" module=\"RealLiterals\" base=\"http://mathhub.info/MitM/Foundation\"/>\n",
       "      </om:OMA>\n",
       "      </om:OMBIND></om:OMOBJ></type>\n",
       "       <definition><om:OMOBJ xmlns:om=\"http://www.openmath.org/OpenMath\"><om:OMBIND><metadata><link resource=\"http://mathhub.info/MitM/smglom/calculus/differentialequations#10.0.10:32.0.32\" rel=\"http://cds.omdoc.org/mmt?metadata?sourceRef\"/></metadata>\n",
       "                 <om:OMS name=\"lambda\" module=\"LambdaPi\" base=\"http://cds.omdoc.org/urtheories\"/>\n",
       "                 <om:OMBVAR><om:OMV name=\"anyt\"><metadata><link resource=\"http://mathhub.info/MitM/smglom/calculus/differentialequations#12.0.12:15.0.15\" rel=\"http://cds.omdoc.org/mmt?metadata?sourceRef\"/></metadata><type><om:OMA><metadata><link resource=\"http://mathhub.info/MitM/smglom/calculus/differentialequations#19.0.19:23.0.23\" rel=\"http://cds.omdoc.org/mmt?metadata?sourceRef\"/></metadata>\n",
       "              <om:OMS name=\"arrow\" module=\"LambdaPi\" base=\"http://cds.omdoc.org/urtheories\"/>\n",
       "              <om:OMS name=\"&#937;\" module=\"ephdomain\" base=\"http://mathhub.info/MitM/smglom/calculus/differentialequations\"/><om:OMS name=\"real_lit\" module=\"RealLiterals\" base=\"http://mathhub.info/MitM/Foundation\"/>\n",
       "      </om:OMA></type></om:OMV></om:OMBVAR>\n",
       "                 <om:OMA><metadata><link resource=\"http://mathhub.info/MitM/smglom/calculus/differentialequations#27.0.27:32.0.32\" rel=\"http://cds.omdoc.org/mmt?metadata?sourceRef\"/></metadata>\n",
       "              <om:OMS name=\"apply\" module=\"LambdaPi\" base=\"http://cds.omdoc.org/urtheories\"/>\n",
       "              <om:OMS name=\"laplace_operator\" module=\"mDifferentialOperators\" base=\"http://mathhub.info/MitM/smglom/calculus/differentialequations\"/><om:OMS name=\"&#937;\" module=\"ephdomain\" base=\"http://mathhub.info/MitM/smglom/calculus/differentialequations\"/><om:OMS name=\"real_lit\" module=\"RealLiterals\" base=\"http://mathhub.info/MitM/Foundation\"/><om:OMV name=\"anyt\"><metadata><link resource=\"http://mathhub.info/MitM/smglom/calculus/differentialequations#29.0.29:32.0.32\" rel=\"http://cds.omdoc.org/mmt?metadata?sourceRef\"/></metadata></om:OMV>\n",
       "      </om:OMA>\n",
       "      </om:OMBIND></om:OMOBJ></definition>\n",
       "       \n",
       "     </constant><constant name=\"myrhs\">\n",
       "       <metadata><link resource=\"http://mathhub.info/MitM/smglom/calculus/differentialequations#1.0.1:11.0.11\" rel=\"http://cds.omdoc.org/mmt?metadata?sourceRef\"/></metadata>\n",
       "       <type><om:OMOBJ xmlns:om=\"http://www.openmath.org/OpenMath\"><om:OMBIND>\n",
       "                 <om:OMS name=\"Pi\" module=\"LambdaPi\" base=\"http://cds.omdoc.org/urtheories\"/>\n",
       "                 <om:OMBVAR><om:OMV name=\"x\"><type><om:OMS name=\"&#937;\" module=\"ephdomain\" base=\"http://mathhub.info/MitM/smglom/calculus/differentialequations\"><metadata><link resource=\"http://mathhub.info/MitM/smglom/calculus/differentialequations#10.0.10:10.0.10\" rel=\"http://cds.omdoc.org/mmt?metadata?sourceRef\"/></metadata></om:OMS></type></om:OMV></om:OMBVAR>\n",
       "                 <om:OMS name=\"real_lit\" module=\"RealLiterals\" base=\"http://mathhub.info/MitM/Foundation\"><metadata><link resource=\"http://mathhub.info/MitM/Foundation/math.mmt#4573.137.32:4580.137.39\" rel=\"http://cds.omdoc.org/mmt?metadata?sourceRef\"/></metadata></om:OMS>\n",
       "      </om:OMBIND></om:OMOBJ></type>\n",
       "       <definition><om:OMOBJ xmlns:om=\"http://www.openmath.org/OpenMath\"><om:OMS name=\"&#954;\" module=\"&#954;\" base=\"http://mathhub.info/MitM/smglom/calculus/differentialequations\"><metadata><link resource=\"http://mathhub.info/MitM/smglom/calculus/differentialequations#10.0.10:10.0.10\" rel=\"http://cds.omdoc.org/mmt?metadata?sourceRef\"/></metadata></om:OMS></om:OMOBJ></definition>\n",
       "       \n",
       "     </constant>\n",
       "      </theory>\n",
       "  </xml>\n",
       "</result>\n",
       "\n",
       "\n",
       "\n",
       "\n",
       "These are all the PDEs needed.\n",
       "Let's discuss your boundary conditions. What do they look like? u(x) = f(x) or u(1.0) = \\alpha ?\n"
      ]
     },
     "metadata": {},
     "output_type": "display_data"
    }
   ],
   "source": [
    "Δt = \\kappa"
   ]
  },
  {
   "cell_type": "code",
   "execution_count": 10,
   "metadata": {},
   "outputs": [
    {
     "data": {
      "text/markdown": [
       "Ok \n",
       "\n",
       "\n",
       "\n",
       "These are all the boundary conditions needed.\n",
       "\n",
       "\n",
       "\n",
       "Do you know something about the operator Δ? Is it e.g. linear, or not elliptic ? \n"
      ]
     },
     "metadata": {},
     "output_type": "display_data"
    }
   ],
   "source": [
    "t = f"
   ]
  },
  {
   "cell_type": "code",
   "execution_count": 11,
   "metadata": {},
   "outputs": [
    {
     "data": {
      "text/markdown": [
       "OK!\n",
       "do you know anything else?\n"
      ]
     },
     "metadata": {},
     "output_type": "display_data"
    }
   ],
   "source": [
    "linear"
   ]
  },
  {
   "cell_type": "code",
   "execution_count": 12,
   "metadata": {},
   "outputs": [
    {
     "data": {
      "text/markdown": [
       "OK!\n",
       "do you know anything else?\n"
      ]
     },
     "metadata": {},
     "output_type": "display_data"
    }
   ],
   "source": [
    "elliptic"
   ]
  },
  {
   "cell_type": "code",
   "execution_count": 13,
   "metadata": {},
   "outputs": [
    {
     "data": {
      "text/markdown": [
       "\n",
       "\n",
       "\n",
       "These are the things we know so far about your problem:\n",
       "\n",
       "\n",
       "\n",
       "\n",
       "\n",
       "\n",
       "domain: {'name': 'Ω', 'theoryname': 'ephdomain', 'axes': OrderedDict([('x', '[0.0;1.0]')]), 'from': '0.0', 'to': '1.0', 'boundary_name': 'Ω', 'viewname': 'ephdomainASmDomain'}\n",
       "\n",
       "\n",
       "\n",
       "\n",
       "\n",
       "\n",
       "unknowns: OrderedDict([('t', {'theoryname': 't', 'string': 't : Ω ⟶ ℝ', 'type': 'Ω ⟶ ℝ', 'codomain': 'ℝ', 'viewname': 'tASmUnknown'})])\n",
       "\n",
       "\n",
       "\n",
       "\n",
       "\n",
       "\n",
       "parameters: OrderedDict([('f', {'theoryname': 'f', 'string': 'f = x', 'parsestring': 'f = [ x : Ω] x', 'type': '{ : Ω } Ω', 'viewname': 'fASmParameter'}), ('κ', {'theoryname': 'κ', 'string': 'κ = -5.0', 'parsestring': 'κ = [ x : Ω] -5.0', 'type': '{ : Ω } ℝ', 'viewname': 'κASmParameter'}), ('k', {'theoryname': 'k', 'string': 'k = x ⋅ x', 'parsestring': 'k = [ x : Ω] x ⋅ x', 'type': '{ : Ω } ℝ', 'viewname': 'kASmParameter'})])\n",
       "\n",
       "\n",
       "\n",
       "\n",
       "\n",
       "\n",
       "pdes: {'pdes': [{'theoryname': 'ephemeral_pde1', 'string': 'Δt = κ', 'lhsstring': 'Δt', 'rhsstring': 'κ', 'rhsstring_expanded': '-5.0', 'viewname': 'ephemeral_pde1ASmPDE', 'op': 'Δ', 'lhsparsestring': ' [ anyt : Ω ⟶ ℝ ] Δ anyt ', 'rhsparsestring': ' κ'}]}\n",
       "\n",
       "\n",
       "\n",
       "\n",
       "\n",
       "\n",
       "bcs: {'theoryname': 'ephbcs', 'bcs': [{'name': 'bc0', 'string': 't = f', 'lhsstring': 't', 'rhsstring': 'f', 'rhsstring_expanded': 'x', 'type': ('Dirichlet',), 'on': ('x',), 'measure': (2,)}], 'viewname': 'ephbcsASmBCsRequired', 'measure_given': 2}\n",
       "\n",
       "\n",
       "\n",
       "\n",
       "\n",
       "\n",
       "props: {'theoryname': 'ephBoundaryValueProblem', 'viewname': 'ephBoundaryValueProblemASmEllipticLinearDirichletBoundaryValueProblem', 'ops': [{'name': 'Δ', 'props': ['elliptic'], 'linear': True}]}\n",
       "\n",
       "\n",
       "\n",
       "\n",
       "\n",
       "\n",
       "sim: {'type': None}\n",
       "\n",
       "\n",
       "\n",
       "\n",
       "\n",
       "\n",
       "You can inspect the persistently loaded MMT theories under http://localhost:9000\n",
       "## Solving\n",
       "\n",
       "\n",
       "\n",
       "Would you like to try and solve the PDE using the Finite Difference Method in ExaStencils? If yes, you can provide a configuration name, or we'll just use your name.\n"
      ]
     },
     "metadata": {},
     "output_type": "display_data"
    }
   ],
   "source": [
    "n"
   ]
  },
  {
   "cell_type": "code",
   "execution_count": null,
   "metadata": {},
   "outputs": [],
   "source": []
  },
  {
   "cell_type": "code",
   "execution_count": 14,
   "metadata": {
    "scrolled": false
   },
   "outputs": [
    {
     "data": {
      "text/html": [
       "\n",
       "            <iframe \n",
       "                src=\"http://localhost:9000/graphs/tgview.html?type=mpd&graphdata=http%3A%2F%2Fmathhub.info%2FMitM%2Fsmglom%2Fcalculus%2Fdifferentialequations%3FMPD_Model&highlight=MPD_pde%2A&viewOnlyMode=true\" \n",
       "                style=\"width: 100%; height: 510px; border: none\"\n",
       "            >\n",
       "            </iframe>\n",
       "        "
      ],
      "text/plain": [
       "<IPython.core.display.HTML object>"
      ]
     },
     "metadata": {},
     "output_type": "display_data"
    },
    {
     "data": {
      "text/markdown": []
     },
     "metadata": {},
     "output_type": "display_data"
    }
   ],
   "source": [
    "tgview mpd"
   ]
  },
  {
   "cell_type": "code",
   "execution_count": 15,
   "metadata": {},
   "outputs": [
    {
     "data": {
      "text/markdown": [
       "These are the things we know so far about your problem:\n",
       "\n",
       "\n",
       "\n",
       "\n",
       "\n",
       "\n",
       "domain: {'name': 'Ω', 'theoryname': 'ephdomain', 'axes': OrderedDict([('x', '[0.0;1.0]')]), 'from': '0.0', 'to': '1.0', 'boundary_name': 'Ω', 'viewname': 'ephdomainASmDomain'}\n",
       "\n",
       "\n",
       "\n",
       "\n",
       "\n",
       "\n",
       "unknowns: OrderedDict([('t', {'theoryname': 't', 'string': 't : Ω ⟶ ℝ', 'type': 'Ω ⟶ ℝ', 'codomain': 'ℝ', 'viewname': 'tASmUnknown'})])\n",
       "\n",
       "\n",
       "\n",
       "\n",
       "\n",
       "\n",
       "parameters: OrderedDict([('f', {'theoryname': 'f', 'string': 'f = x', 'parsestring': 'f = [ x : Ω] x', 'type': '{ : Ω } Ω', 'viewname': 'fASmParameter'}), ('κ', {'theoryname': 'κ', 'string': 'κ = -5.0', 'parsestring': 'κ = [ x : Ω] -5.0', 'type': '{ : Ω } ℝ', 'viewname': 'κASmParameter'}), ('k', {'theoryname': 'k', 'string': 'k = x ⋅ x', 'parsestring': 'k = [ x : Ω] x ⋅ x', 'type': '{ : Ω } ℝ', 'viewname': 'kASmParameter'})])\n",
       "\n",
       "\n",
       "\n",
       "\n",
       "\n",
       "\n",
       "pdes: {'pdes': [{'theoryname': 'ephemeral_pde1', 'string': 'Δt = κ', 'lhsstring': 'Δt', 'rhsstring': 'κ', 'rhsstring_expanded': '-5.0', 'viewname': 'ephemeral_pde1ASmPDE', 'op': 'Δ', 'lhsparsestring': ' [ anyt : Ω ⟶ ℝ ] Δ anyt ', 'rhsparsestring': ' κ'}]}\n",
       "\n",
       "\n",
       "\n",
       "\n",
       "\n",
       "\n",
       "bcs: {'theoryname': 'ephbcs', 'bcs': [{'name': 'bc0', 'string': 't = f', 'lhsstring': 't', 'rhsstring': 'f', 'rhsstring_expanded': 'x', 'type': ('Dirichlet',), 'on': ('x',), 'measure': (2,)}], 'viewname': 'ephbcsASmBCsRequired', 'measure_given': 2}\n",
       "\n",
       "\n",
       "\n",
       "\n",
       "\n",
       "\n",
       "props: {'theoryname': 'ephBoundaryValueProblem', 'viewname': 'ephBoundaryValueProblemASmEllipticLinearDirichletBoundaryValueProblem', 'ops': [{'name': 'Δ', 'props': ['elliptic'], 'linear': True}]}\n",
       "\n",
       "\n",
       "\n",
       "\n",
       "\n",
       "\n",
       "sim: {'type': None}\n",
       "\n",
       "\n",
       "\n",
       "\n",
       "\n",
       "\n",
       "You can inspect the persistently loaded MMT theories under http://localhost:9000\n"
      ]
     },
     "metadata": {},
     "output_type": "display_data"
    }
   ],
   "source": [
    "recap"
   ]
  },
  {
   "cell_type": "code",
   "execution_count": 16,
   "metadata": {},
   "outputs": [
    {
     "data": {
      "text/html": [
       "\n",
       "            <iframe \n",
       "                src=\"http://localhost:9000/graphs/tgview.html?type=pgraph&graphdata=http%3A%2F%2Fmathhub.info%2FMitM%2Fsmglom%2Fcalculus%2Fdifferentialequations&highlight=actual%2A%2Cephemeral%2A%2Cu%2Cq%2C%CE%B1%2CSHE&viewOnlyMode=true\" \n",
       "                style=\"width: 100%; height: 510px; border: none\"\n",
       "            >\n",
       "            </iframe>\n",
       "        "
      ],
      "text/plain": [
       "<IPython.core.display.HTML object>"
      ]
     },
     "metadata": {},
     "output_type": "display_data"
    },
    {
     "data": {
      "text/markdown": []
     },
     "metadata": {},
     "output_type": "display_data"
    }
   ],
   "source": [
    "tgview"
   ]
  },
  {
   "cell_type": "code",
   "execution_count": null,
   "metadata": {},
   "outputs": [],
   "source": []
  }
 ],
 "metadata": {
  "kernelspec": {
   "display_name": "TheInterview",
   "language": "text",
   "name": "interview"
  },
  "language_info": {
   "file_extension": ".txt",
   "help_links": [
    {
     "text": "MetaKernel Magics",
     "url": "https://github.com/calysto/metakernel/blob/master/metakernel/magics/README.md"
    }
   ],
   "mimetype": "text/plain",
   "name": "text"
  }
 },
 "nbformat": 4,
 "nbformat_minor": 2
}
