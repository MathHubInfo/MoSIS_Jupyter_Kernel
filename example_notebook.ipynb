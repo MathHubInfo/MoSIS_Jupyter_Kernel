{
 "cells": [
  {
   "cell_type": "markdown",
   "metadata": {},
   "source": [
    "**Hello, Jen! I am MoSIS 1.0, your partial differential equations and simulations tool.**\n",
    "Let's set up a model and simulation.\n",
    "\n",
    "To get explanations, enter `explain <optional keyword>`. \n",
    "To see a recap of what we know so far, enter `recap <optional keyword>`. \n",
    "To interactively visualize the current theory graph, enter `tgwiev` or `tgview mpd`. \n",
    "Otherwise, you can always answer with LaTeX-type input.\n",
    "\n",
    "\n",
    "## Modeling\n",
    "\n",
    "\n",
    "\n",
    "How many dimensions does your model have?\n",
    "\n",
    "\n",
    "\n",
    "I am just assuming it's 1, since that is all we can currently handle.\n",
    "\n",
    "\n",
    "\n",
    "\n",
    "\n",
    "\n",
    "What is the domain in your model?     Ω : type ❘ = [?;?], e.g. `\\Omega = [0.0;1.0]`\n"
   ]
  },
  {
   "cell_type": "code",
   "execution_count": 1,
   "metadata": {},
   "outputs": [
    {
     "data": {
      "text/markdown": [
       "we will just assume that the variable is called x for now.\n",
       "\n",
       "\n",
       "\n",
       "Which variable(s) are you looking for? / What are the unknowns in your model?  u : Ω ⟶ ??,  e.g., u : Ω ⟶ ℝ ?\n"
      ]
     },
     "metadata": {},
     "output_type": "display_data"
    }
   ],
   "source": [
    "\\Omega = [0.0;1.0]"
   ]
  },
  {
   "cell_type": "code",
   "execution_count": 2,
   "metadata": {},
   "outputs": [
    {
     "data": {
      "text/markdown": [
       "Ok, u : Ω ⟶ ℝ\n",
       "\n",
       "\n",
       "\n",
       "Would you like to name additional parameters like constants or functions (that are independent of your             unknowns)?  c : ℝ = ? or f : Ω ⟶ ℝ = ?\n"
      ]
     },
     "metadata": {},
     "output_type": "display_data"
    }
   ],
   "source": [
    "u : Ω ⟶ ℝ"
   ]
  },
  {
   "cell_type": "code",
   "execution_count": 3,
   "metadata": {},
   "outputs": [
    {
     "data": {
      "text/markdown": [
       "Ok, f = [ x : Ω] sin(x)\n",
       "\n",
       "\n",
       "\n",
       "Would you like to declare more parameters?\n"
      ]
     },
     "metadata": {},
     "output_type": "display_data"
    }
   ],
   "source": [
    "f = sin(x)"
   ]
  },
  {
   "cell_type": "code",
   "execution_count": 4,
   "metadata": {},
   "outputs": [
    {
     "data": {
      "text/markdown": [
       "These are the things we know so far about your problem:\n",
       "\n",
       "\n",
       "\n",
       "\n",
       "\n",
       "\n",
       "domain: {'name': 'Ω', 'theoryname': 'ephdomain', 'axes': OrderedDict([('x', '[0.0;1.0]')]), 'from': '0.0', 'to': '1.0', 'boundary_name': 'Ω', 'viewname': 'ephdomainASmDomain'}\n",
       "\n",
       "\n",
       "\n",
       "\n",
       "\n",
       "\n",
       "unknowns: OrderedDict([('u', {'theoryname': 'u', 'string': 'u : Ω ⟶ ℝ', 'type': 'Ω ⟶ ℝ', 'codomain': 'ℝ', 'viewname': 'uASmUnknown'})])\n",
       "\n",
       "\n",
       "\n",
       "\n",
       "\n",
       "\n",
       "parameters: OrderedDict([('f', {'theoryname': 'f', 'string': 'f = sin(x)', 'parsestring': 'f = [ x : Ω] sin(x)', 'type': '{ : Ω } ℝ', 'viewname': 'fASmParameter'})])\n",
       "\n",
       "\n",
       "\n",
       "\n",
       "\n",
       "\n",
       "You can inspect the persistently loaded MMT theories under http://localhost:9000\n"
      ]
     },
     "metadata": {},
     "output_type": "display_data"
    }
   ],
   "source": [
    "recap"
   ]
  },
  {
   "cell_type": "code",
   "execution_count": 5,
   "metadata": {},
   "outputs": [
    {
     "data": {
      "text/markdown": [
       "Ok, k = [ x : Ω] x ⋅ x\n",
       "\n",
       "\n",
       "\n",
       "Would you like to declare more parameters?\n"
      ]
     },
     "metadata": {},
     "output_type": "display_data"
    }
   ],
   "source": [
    "k = x ⋅ x"
   ]
  },
  {
   "cell_type": "code",
   "execution_count": 6,
   "metadata": {},
   "outputs": [
    {
     "data": {
      "text/markdown": [
       "These are the things we know so far about your problem:\n",
       "\n",
       "\n",
       "\n",
       "\n",
       "\n",
       "\n",
       "domain: {'name': 'Ω', 'theoryname': 'ephdomain', 'axes': OrderedDict([('x', '[0.0;1.0]')]), 'from': '0.0', 'to': '1.0', 'boundary_name': 'Ω', 'viewname': 'ephdomainASmDomain'}\n",
       "\n",
       "\n",
       "\n",
       "\n",
       "\n",
       "\n",
       "unknowns: OrderedDict([('u', {'theoryname': 'u', 'string': 'u : Ω ⟶ ℝ', 'type': 'Ω ⟶ ℝ', 'codomain': 'ℝ', 'viewname': 'uASmUnknown'})])\n",
       "\n",
       "\n",
       "\n",
       "\n",
       "\n",
       "\n",
       "parameters: OrderedDict([('f', {'theoryname': 'f', 'string': 'f = sin(x)', 'parsestring': 'f = [ x : Ω] sin(x)', 'type': '{ : Ω } ℝ', 'viewname': 'fASmParameter'}), ('k', {'theoryname': 'k', 'string': 'k = x ⋅ x', 'parsestring': 'k = [ x : Ω] x ⋅ x', 'type': '{ : Ω } ℝ', 'viewname': 'kASmParameter'})])\n",
       "\n",
       "\n",
       "\n",
       "\n",
       "\n",
       "\n",
       "You can inspect the persistently loaded MMT theories under http://localhost:9000\n"
      ]
     },
     "metadata": {},
     "output_type": "display_data"
    }
   ],
   "source": [
    "recap"
   ]
  },
  {
   "cell_type": "code",
   "execution_count": 7,
   "metadata": {},
   "outputs": [
    {
     "data": {
      "text/markdown": [
       "<result>\n",
       "  <xml>\n",
       "    <theory meta=\"http://mathhub.info/MitM/Foundation?Logic\" base=\"http://mathhub.info/MitM/smglom/calculus/differentialequations\" name=\"ephdomain\">\n",
       "        \n",
       "        \n",
       "        <import from=\"http://mathhub.info/MitM/smglom/arithmetics?RealArithmetics\"><metadata><link resource=\"http://mathhub.info/MitM/smglom/calculus/differentialequations#0.0.0:67.0.67\" rel=\"http://cds.omdoc.org/mmt?metadata?sourceRef\"/></metadata></import><import from=\"http://mathhub.info/MitM/smglom/calculus/differentialequations?mInterval\"><metadata><link resource=\"http://mathhub.info/MitM/smglom/calculus/differentialequations#0.0.0:18.0.18\" rel=\"http://cds.omdoc.org/mmt?metadata?sourceRef\"/></metadata></import><constant name=\"&#937;\">\n",
       "       <metadata><link resource=\"http://mathhub.info/MitM/smglom/calculus/differentialequations#0.0.0:13.0.13\" rel=\"http://cds.omdoc.org/mmt?metadata?sourceRef\"/></metadata>\n",
       "       <type><om:OMOBJ xmlns:om=\"http://www.openmath.org/OpenMath\"><om:OMS name=\"type\" module=\"Typed\" base=\"http://cds.omdoc.org/urtheories\"><metadata><link resource=\"http://mathhub.info/MitM/smglom/differentialequations.mmt#559.19.21:562.19.24\" rel=\"http://cds.omdoc.org/mmt?metadata?sourceRef\"/></metadata></om:OMS></om:OMOBJ></type>\n",
       "       <definition><om:OMOBJ xmlns:om=\"http://www.openmath.org/OpenMath\"><om:OMA><metadata><link resource=\"http://mathhub.info/MitM/smglom/calculus/differentialequations#10.0.10:10.0.10\" rel=\"http://cds.omdoc.org/mmt?metadata?sourceRef\"/></metadata>\n",
       "              <om:OMS name=\"apply\" module=\"LambdaPi\" base=\"http://cds.omdoc.org/urtheories\"/>\n",
       "              <om:OMS name=\"interval\" module=\"mInterval\" base=\"http://mathhub.info/MitM/smglom/calculus/differentialequations\"/><om:OMLIT value=\"0.0\" type=\"http://mathhub.info/MitM/Foundation?RealLiterals?real_lit\"/><om:OMLIT value=\"1.0\" type=\"http://mathhub.info/MitM/Foundation?RealLiterals?real_lit\"/>\n",
       "      </om:OMA></om:OMOBJ></definition>\n",
       "       \n",
       "     </constant>\n",
       "      </theory>\n",
       "  </xml>\n",
       "</result>\n",
       "\n",
       "\n",
       "<result>\n",
       "  <xml>\n",
       "    <theory meta=\"http://mathhub.info/MitM/Foundation?Logic\" base=\"http://mathhub.info/MitM/smglom/calculus/differentialequations\" name=\"u\">\n",
       "        \n",
       "        \n",
       "        <import from=\"http://mathhub.info/MitM/Foundation?Strings\"><metadata><link resource=\"http://mathhub.info/MitM/smglom/calculus/differentialequations#0.0.0:51.0.51\" rel=\"http://cds.omdoc.org/mmt?metadata?sourceRef\"/></metadata></import><import from=\"http://mathhub.info/MitM/smglom/calculus/differentialequations?ephdomain\"><metadata><link resource=\"http://mathhub.info/MitM/smglom/calculus/differentialequations#0.0.0:18.0.18\" rel=\"http://cds.omdoc.org/mmt?metadata?sourceRef\"/></metadata></import><constant name=\"myUnkType\">\n",
       "       <metadata><link resource=\"http://mathhub.info/MitM/smglom/calculus/differentialequations#0.0.0:17.0.17\" rel=\"http://cds.omdoc.org/mmt?metadata?sourceRef\"/></metadata>\n",
       "       <type><om:OMOBJ xmlns:om=\"http://www.openmath.org/OpenMath\"><om:OMS name=\"type\" module=\"Typed\" base=\"http://cds.omdoc.org/urtheories\"><metadata><link resource=\"http://mathhub.info/MitM/Foundation/math.mmt#4429.132.11:4432.132.14\" rel=\"http://cds.omdoc.org/mmt?metadata?sourceRef\"/></metadata></om:OMS></om:OMOBJ></type>\n",
       "       <definition><om:OMOBJ xmlns:om=\"http://www.openmath.org/OpenMath\"><om:OMA><metadata><link resource=\"http://mathhub.info/MitM/smglom/calculus/differentialequations#12.0.12:16.0.16\" rel=\"http://cds.omdoc.org/mmt?metadata?sourceRef\"/></metadata>\n",
       "              <om:OMS name=\"arrow\" module=\"LambdaPi\" base=\"http://cds.omdoc.org/urtheories\"/>\n",
       "              <om:OMS name=\"&#937;\" module=\"ephdomain\" base=\"http://mathhub.info/MitM/smglom/calculus/differentialequations\"><metadata><link resource=\"http://mathhub.info/MitM/smglom/calculus/differentialequations#12.0.12:12.0.12\" rel=\"http://cds.omdoc.org/mmt?metadata?sourceRef\"/></metadata></om:OMS><om:OMS name=\"real_lit\" module=\"RealLiterals\" base=\"http://mathhub.info/MitM/Foundation\"><metadata><link resource=\"http://mathhub.info/MitM/smglom/calculus/differentialequations#16.0.16:16.0.16\" rel=\"http://cds.omdoc.org/mmt?metadata?sourceRef\"/></metadata></om:OMS>\n",
       "      </om:OMA></om:OMOBJ></definition>\n",
       "       \n",
       "     </constant>\n",
       "      </theory>\n",
       "  </xml>\n",
       "</result>\n",
       "\n",
       "\n",
       "<result>\n",
       "  <xml>\n",
       "    <theory meta=\"http://mathhub.info/MitM/Foundation?Logic\" base=\"http://mathhub.info/MitM/smglom/calculus/differentialequations\" name=\"u_to_go_to_trash\">\n",
       "        \n",
       "        \n",
       "        <import from=\"http://mathhub.info/MitM/Foundation?Strings\"><metadata><link resource=\"http://mathhub.info/MitM/smglom/calculus/differentialequations#0.0.0:51.0.51\" rel=\"http://cds.omdoc.org/mmt?metadata?sourceRef\"/></metadata></import><import from=\"http://mathhub.info/MitM/smglom/calculus/differentialequations?ephdomain\"><metadata><link resource=\"http://mathhub.info/MitM/smglom/calculus/differentialequations#0.0.0:18.0.18\" rel=\"http://cds.omdoc.org/mmt?metadata?sourceRef\"/></metadata></import><constant name=\"u\">\n",
       "       <metadata><link resource=\"http://mathhub.info/MitM/smglom/calculus/differentialequations#0.0.0:9.0.9\" rel=\"http://cds.omdoc.org/mmt?metadata?sourceRef\"/></metadata>\n",
       "       <type><om:OMOBJ xmlns:om=\"http://www.openmath.org/OpenMath\"><om:OMA><metadata><link resource=\"http://mathhub.info/MitM/smglom/calculus/differentialequations#4.0.4:8.0.8\" rel=\"http://cds.omdoc.org/mmt?metadata?sourceRef\"/></metadata>\n",
       "              <om:OMS name=\"arrow\" module=\"LambdaPi\" base=\"http://cds.omdoc.org/urtheories\"/>\n",
       "              <om:OMS name=\"&#937;\" module=\"ephdomain\" base=\"http://mathhub.info/MitM/smglom/calculus/differentialequations\"><metadata><link resource=\"http://mathhub.info/MitM/smglom/calculus/differentialequations#4.0.4:4.0.4\" rel=\"http://cds.omdoc.org/mmt?metadata?sourceRef\"/></metadata></om:OMS><om:OMS name=\"real_lit\" module=\"RealLiterals\" base=\"http://mathhub.info/MitM/Foundation\"><metadata><link resource=\"http://mathhub.info/MitM/smglom/calculus/differentialequations#8.0.8:8.0.8\" rel=\"http://cds.omdoc.org/mmt?metadata?sourceRef\"/></metadata></om:OMS>\n",
       "      </om:OMA></om:OMOBJ></type>\n",
       "       \n",
       "       \n",
       "     </constant>\n",
       "      </theory>\n",
       "  </xml>\n",
       "</result>\n",
       "\n",
       "\n",
       "<result>\n",
       "  <xml>\n",
       "    <theory meta=\"http://mathhub.info/MitM/Foundation?Logic\" base=\"http://mathhub.info/MitM/smglom/calculus/differentialequations\" name=\"f\">\n",
       "        \n",
       "        \n",
       "        <import from=\"http://mathhub.info/MitM/smglom/arithmetics?RealArithmetics\"><metadata><link resource=\"http://mathhub.info/MitM/smglom/calculus/differentialequations#0.0.0:67.0.67\" rel=\"http://cds.omdoc.org/mmt?metadata?sourceRef\"/></metadata></import><import from=\"http://mathhub.info/MitM/smglom/calculus/differentialequations?ephdomain\"><metadata><link resource=\"http://mathhub.info/MitM/smglom/calculus/differentialequations#0.0.0:18.0.18\" rel=\"http://cds.omdoc.org/mmt?metadata?sourceRef\"/></metadata></import><import from=\"http://mathhub.info/MitM/Foundation?Math\"><metadata><link resource=\"http://mathhub.info/MitM/smglom/calculus/differentialequations#0.0.0:48.0.48\" rel=\"http://cds.omdoc.org/mmt?metadata?sourceRef\"/></metadata></import><constant role=\"Quantity\" name=\"f\">\n",
       "       <metadata><link resource=\"http://mathhub.info/MitM/smglom/calculus/differentialequations#0.0.0:34.0.34\" rel=\"http://cds.omdoc.org/mmt?metadata?sourceRef\"/></metadata>\n",
       "       <type><om:OMOBJ xmlns:om=\"http://www.openmath.org/OpenMath\"><om:OMBIND>\n",
       "                 <om:OMS name=\"Pi\" module=\"LambdaPi\" base=\"http://cds.omdoc.org/urtheories\"/>\n",
       "                 <om:OMBVAR><om:OMV name=\"x\"><type><om:OMS name=\"&#937;\" module=\"ephdomain\" base=\"http://mathhub.info/MitM/smglom/calculus/differentialequations\"><metadata><link resource=\"http://mathhub.info/MitM/smglom/calculus/differentialequations#10.0.10:10.0.10\" rel=\"http://cds.omdoc.org/mmt?metadata?sourceRef\"/></metadata></om:OMS></type></om:OMV></om:OMBVAR>\n",
       "                 <om:OMS name=\"real_lit\" module=\"RealLiterals\" base=\"http://mathhub.info/MitM/Foundation\"><metadata><link resource=\"http://mathhub.info/MitM/Foundation/math.mmt#5516.174.20:5523.174.27\" rel=\"http://cds.omdoc.org/mmt?metadata?sourceRef\"/></metadata></om:OMS>\n",
       "      </om:OMBIND></om:OMOBJ></type>\n",
       "       <definition><om:OMOBJ xmlns:om=\"http://www.openmath.org/OpenMath\"><om:OMBIND><metadata><link resource=\"http://mathhub.info/MitM/smglom/calculus/differentialequations#4.0.4:18.0.18\" rel=\"http://cds.omdoc.org/mmt?metadata?sourceRef\"/></metadata>\n",
       "                 <om:OMS name=\"lambda\" module=\"LambdaPi\" base=\"http://cds.omdoc.org/urtheories\"/>\n",
       "                 <om:OMBVAR><om:OMV name=\"x\"><metadata><link resource=\"http://mathhub.info/MitM/smglom/calculus/differentialequations#6.0.6:6.0.6\" rel=\"http://cds.omdoc.org/mmt?metadata?sourceRef\"/></metadata><type><om:OMS name=\"&#937;\" module=\"ephdomain\" base=\"http://mathhub.info/MitM/smglom/calculus/differentialequations\"><metadata><link resource=\"http://mathhub.info/MitM/smglom/calculus/differentialequations#10.0.10:10.0.10\" rel=\"http://cds.omdoc.org/mmt?metadata?sourceRef\"/></metadata></om:OMS></type></om:OMV></om:OMBVAR>\n",
       "                 <om:OMA><metadata><link resource=\"http://mathhub.info/MitM/smglom/calculus/differentialequations#13.0.13:18.0.18\" rel=\"http://cds.omdoc.org/mmt?metadata?sourceRef\"/></metadata>\n",
       "              <om:OMS name=\"apply\" module=\"LambdaPi\" base=\"http://cds.omdoc.org/urtheories\"/>\n",
       "              <om:OMS name=\"sin\" module=\"Trigonometry\" base=\"http://mathhub.info/MitM/Foundation\"><metadata><link resource=\"http://mathhub.info/MitM/smglom/calculus/differentialequations#13.0.13:15.0.15\" rel=\"http://cds.omdoc.org/mmt?metadata?sourceRef\"/></metadata></om:OMS><om:OMV name=\"x\"><metadata><link resource=\"http://mathhub.info/MitM/smglom/calculus/differentialequations#16.0.16:18.0.18\" rel=\"http://cds.omdoc.org/mmt?metadata?sourceRef\"/></metadata></om:OMV>\n",
       "      </om:OMA>\n",
       "      </om:OMBIND></om:OMOBJ></definition>\n",
       "       \n",
       "     </constant>\n",
       "      </theory>\n",
       "  </xml>\n",
       "</result>\n",
       "\n",
       "\n",
       "<result>\n",
       "  <xml>\n",
       "    <theory meta=\"http://mathhub.info/MitM/Foundation?Logic\" base=\"http://mathhub.info/MitM/smglom/calculus/differentialequations\" name=\"k\">\n",
       "        \n",
       "        \n",
       "        <import from=\"http://mathhub.info/MitM/smglom/arithmetics?RealArithmetics\"><metadata><link resource=\"http://mathhub.info/MitM/smglom/calculus/differentialequations#0.0.0:67.0.67\" rel=\"http://cds.omdoc.org/mmt?metadata?sourceRef\"/></metadata></import><import from=\"http://mathhub.info/MitM/smglom/calculus/differentialequations?ephdomain\"><metadata><link resource=\"http://mathhub.info/MitM/smglom/calculus/differentialequations#0.0.0:18.0.18\" rel=\"http://cds.omdoc.org/mmt?metadata?sourceRef\"/></metadata></import><import from=\"http://mathhub.info/MitM/Foundation?Math\"><metadata><link resource=\"http://mathhub.info/MitM/smglom/calculus/differentialequations#0.0.0:48.0.48\" rel=\"http://cds.omdoc.org/mmt?metadata?sourceRef\"/></metadata></import><constant role=\"Quantity\" name=\"k\">\n",
       "       <metadata><link resource=\"http://mathhub.info/MitM/smglom/calculus/differentialequations#0.0.0:33.0.33\" rel=\"http://cds.omdoc.org/mmt?metadata?sourceRef\"/></metadata>\n",
       "       <type><om:OMOBJ xmlns:om=\"http://www.openmath.org/OpenMath\"><om:OMBIND>\n",
       "                 <om:OMS name=\"Pi\" module=\"LambdaPi\" base=\"http://cds.omdoc.org/urtheories\"/>\n",
       "                 <om:OMBVAR><om:OMV name=\"x\"><type><om:OMS name=\"&#937;\" module=\"ephdomain\" base=\"http://mathhub.info/MitM/smglom/calculus/differentialequations\"><metadata><link resource=\"http://mathhub.info/MitM/smglom/calculus/differentialequations#10.0.10:10.0.10\" rel=\"http://cds.omdoc.org/mmt?metadata?sourceRef\"/></metadata></om:OMS></type></om:OMV></om:OMBVAR>\n",
       "                 <om:OMS name=\"real_lit\" module=\"RealLiterals\" base=\"http://mathhub.info/MitM/Foundation\"/>\n",
       "      </om:OMBIND></om:OMOBJ></type>\n",
       "       <definition><om:OMOBJ xmlns:om=\"http://www.openmath.org/OpenMath\"><om:OMBIND><metadata><link resource=\"http://mathhub.info/MitM/smglom/calculus/differentialequations#4.0.4:17.0.17\" rel=\"http://cds.omdoc.org/mmt?metadata?sourceRef\"/></metadata>\n",
       "                 <om:OMS name=\"lambda\" module=\"LambdaPi\" base=\"http://cds.omdoc.org/urtheories\"/>\n",
       "                 <om:OMBVAR><om:OMV name=\"x\"><metadata><link resource=\"http://mathhub.info/MitM/smglom/calculus/differentialequations#6.0.6:6.0.6\" rel=\"http://cds.omdoc.org/mmt?metadata?sourceRef\"/></metadata><type><om:OMS name=\"&#937;\" module=\"ephdomain\" base=\"http://mathhub.info/MitM/smglom/calculus/differentialequations\"><metadata><link resource=\"http://mathhub.info/MitM/smglom/calculus/differentialequations#10.0.10:10.0.10\" rel=\"http://cds.omdoc.org/mmt?metadata?sourceRef\"/></metadata></om:OMS></type></om:OMV></om:OMBVAR>\n",
       "                 <om:OMA><metadata><link resource=\"http://mathhub.info/MitM/smglom/calculus/differentialequations#13.0.13:17.0.17\" rel=\"http://cds.omdoc.org/mmt?metadata?sourceRef\"/></metadata>\n",
       "              <om:OMS name=\"apply\" module=\"LambdaPi\" base=\"http://cds.omdoc.org/urtheories\"/>\n",
       "              <om:OMS name=\"multiplication\" module=\"RealArithmetics\" base=\"http://mathhub.info/MitM/smglom/arithmetics\"/><om:OMV name=\"x\"><metadata><link resource=\"http://mathhub.info/MitM/smglom/calculus/differentialequations#13.0.13:13.0.13\" rel=\"http://cds.omdoc.org/mmt?metadata?sourceRef\"/></metadata></om:OMV><om:OMV name=\"x\"><metadata><link resource=\"http://mathhub.info/MitM/smglom/calculus/differentialequations#17.0.17:17.0.17\" rel=\"http://cds.omdoc.org/mmt?metadata?sourceRef\"/></metadata></om:OMV>\n",
       "      </om:OMA>\n",
       "      </om:OMBIND></om:OMOBJ></definition>\n",
       "       \n",
       "     </constant>\n",
       "      </theory>\n",
       "  </xml>\n",
       "</result>\n",
       "\n",
       "\n",
       "\n"
      ]
     },
     "metadata": {},
     "output_type": "display_data"
    }
   ],
   "source": [
    "omdoc"
   ]
  },
  {
   "cell_type": "code",
   "execution_count": 8,
   "metadata": {},
   "outputs": [
    {
     "data": {
      "text/markdown": [
       "f = sin(x)\n",
       "k = x ⋅ x\n",
       "\n",
       "\n",
       "\n",
       "Let's talk about your partial differential equation(s). What do they look like? Δu = 0.0, or laplace_operator Ω ℝ u = f ?\n"
      ]
     },
     "metadata": {},
     "output_type": "display_data"
    }
   ],
   "source": [
    "n"
   ]
  },
  {
   "cell_type": "code",
   "execution_count": 9,
   "metadata": {},
   "outputs": [
    {
     "data": {
      "text/markdown": [
       "Ok, this is what this looks like in omdoc: <result>\n",
       "  <xml>\n",
       "    <theory meta=\"http://mathhub.info/MitM/Foundation?Logic\" base=\"http://mathhub.info/MitM/smglom/calculus/differentialequations\" name=\"ephemeral_pde1\">\n",
       "        \n",
       "        \n",
       "        <import from=\"http://mathhub.info/MitM/smglom/calculus/differentialequations?mDifferentialOperators\"><metadata><link resource=\"http://mathhub.info/MitM/smglom/calculus/differentialequations#0.0.0:31.0.31\" rel=\"http://cds.omdoc.org/mmt?metadata?sourceRef\"/></metadata></import><import from=\"http://mathhub.info/MitM/smglom/calculus/differentialequations?mFunctionArithmetics\"><metadata><link resource=\"http://mathhub.info/MitM/smglom/calculus/differentialequations#0.0.0:29.0.29\" rel=\"http://cds.omdoc.org/mmt?metadata?sourceRef\"/></metadata></import><import from=\"http://mathhub.info/MitM/smglom/calculus/differentialequations?u\"><metadata><link resource=\"http://mathhub.info/MitM/smglom/calculus/differentialequations#0.0.0:10.0.10\" rel=\"http://cds.omdoc.org/mmt?metadata?sourceRef\"/></metadata></import><import from=\"http://mathhub.info/MitM/smglom/calculus/differentialequations?f\"><metadata><link resource=\"http://mathhub.info/MitM/smglom/calculus/differentialequations#0.0.0:10.0.10\" rel=\"http://cds.omdoc.org/mmt?metadata?sourceRef\"/></metadata></import><import from=\"http://mathhub.info/MitM/smglom/calculus/differentialequations?k\"><metadata><link resource=\"http://mathhub.info/MitM/smglom/calculus/differentialequations#0.0.0:10.0.10\" rel=\"http://cds.omdoc.org/mmt?metadata?sourceRef\"/></metadata></import><constant name=\"mylhs\">\n",
       "       <metadata><link resource=\"http://mathhub.info/MitM/smglom/calculus/differentialequations#1.0.1:38.0.38\" rel=\"http://cds.omdoc.org/mmt?metadata?sourceRef\"/></metadata>\n",
       "       <type><om:OMOBJ xmlns:om=\"http://www.openmath.org/OpenMath\"><om:OMBIND>\n",
       "                 <om:OMS name=\"Pi\" module=\"LambdaPi\" base=\"http://cds.omdoc.org/urtheories\"/>\n",
       "                 <om:OMBVAR><om:OMV name=\"anyu\"><type><om:OMA><metadata><link resource=\"http://mathhub.info/MitM/smglom/calculus/differentialequations#19.0.19:23.0.23\" rel=\"http://cds.omdoc.org/mmt?metadata?sourceRef\"/></metadata>\n",
       "              <om:OMS name=\"arrow\" module=\"LambdaPi\" base=\"http://cds.omdoc.org/urtheories\"/>\n",
       "              <om:OMS name=\"&#937;\" module=\"ephdomain\" base=\"http://mathhub.info/MitM/smglom/calculus/differentialequations\"/><om:OMS name=\"real_lit\" module=\"RealLiterals\" base=\"http://mathhub.info/MitM/Foundation\"/>\n",
       "      </om:OMA></type></om:OMV></om:OMBVAR>\n",
       "                 <om:OMA><metadata><link resource=\"http://mathhub.info/MitM/smglom/differentialequations.mmt#3945.70.69:3965.70.89\" rel=\"http://cds.omdoc.org/mmt?metadata?sourceRef\"/></metadata>\n",
       "              <om:OMS name=\"arrow\" module=\"LambdaPi\" base=\"http://cds.omdoc.org/urtheories\"/>\n",
       "              <om:OMS name=\"&#937;\" module=\"ephdomain\" base=\"http://mathhub.info/MitM/smglom/calculus/differentialequations\"/><om:OMS name=\"real_lit\" module=\"RealLiterals\" base=\"http://mathhub.info/MitM/Foundation\"><metadata><link resource=\"http://mathhub.info/MitM/smglom/differentialequations.mmt#3964.70.88:3964.70.88\" rel=\"http://cds.omdoc.org/mmt?metadata?sourceRef\"/></metadata></om:OMS>\n",
       "      </om:OMA>\n",
       "      </om:OMBIND></om:OMOBJ></type>\n",
       "       <definition><om:OMOBJ xmlns:om=\"http://www.openmath.org/OpenMath\"><om:OMBIND><metadata><link resource=\"http://mathhub.info/MitM/smglom/calculus/differentialequations#10.0.10:36.0.36\" rel=\"http://cds.omdoc.org/mmt?metadata?sourceRef\"/></metadata>\n",
       "                 <om:OMS name=\"lambda\" module=\"LambdaPi\" base=\"http://cds.omdoc.org/urtheories\"/>\n",
       "                 <om:OMBVAR><om:OMV name=\"anyu\"><metadata><link resource=\"http://mathhub.info/MitM/smglom/calculus/differentialequations#12.0.12:15.0.15\" rel=\"http://cds.omdoc.org/mmt?metadata?sourceRef\"/></metadata><type><om:OMA><metadata><link resource=\"http://mathhub.info/MitM/smglom/calculus/differentialequations#19.0.19:23.0.23\" rel=\"http://cds.omdoc.org/mmt?metadata?sourceRef\"/></metadata>\n",
       "              <om:OMS name=\"arrow\" module=\"LambdaPi\" base=\"http://cds.omdoc.org/urtheories\"/>\n",
       "              <om:OMS name=\"&#937;\" module=\"ephdomain\" base=\"http://mathhub.info/MitM/smglom/calculus/differentialequations\"/><om:OMS name=\"real_lit\" module=\"RealLiterals\" base=\"http://mathhub.info/MitM/Foundation\"/>\n",
       "      </om:OMA></type></om:OMV></om:OMBVAR>\n",
       "                 <om:OMA><metadata><link resource=\"http://mathhub.info/MitM/smglom/calculus/differentialequations#27.0.27:36.0.36\" rel=\"http://cds.omdoc.org/mmt?metadata?sourceRef\"/></metadata>\n",
       "              <om:OMS name=\"apply\" module=\"LambdaPi\" base=\"http://cds.omdoc.org/urtheories\"/>\n",
       "              <om:OMS name=\"times_real_func\" module=\"mFunctionArithmetics\" base=\"http://mathhub.info/MitM/smglom/calculus/differentialequations\"/><om:OMS name=\"&#937;\" module=\"ephdomain\" base=\"http://mathhub.info/MitM/smglom/calculus/differentialequations\"/><om:OMS name=\"&#954;\" module=\"&#954;\" base=\"http://mathhub.info/MitM/smglom/calculus/differentialequations\"><metadata><link resource=\"http://mathhub.info/MitM/smglom/calculus/differentialequations#27.0.27:27.0.27\" rel=\"http://cds.omdoc.org/mmt?metadata?sourceRef\"/></metadata></om:OMS><om:OMA><metadata><link resource=\"http://mathhub.info/MitM/smglom/calculus/differentialequations#31.0.31:36.0.36\" rel=\"http://cds.omdoc.org/mmt?metadata?sourceRef\"/></metadata>\n",
       "              <om:OMS name=\"apply\" module=\"LambdaPi\" base=\"http://cds.omdoc.org/urtheories\"/>\n",
       "              <om:OMS name=\"laplace_operator\" module=\"mDifferentialOperators\" base=\"http://mathhub.info/MitM/smglom/calculus/differentialequations\"/><om:OMS name=\"&#937;\" module=\"ephdomain\" base=\"http://mathhub.info/MitM/smglom/calculus/differentialequations\"/><om:OMS name=\"real_lit\" module=\"RealLiterals\" base=\"http://mathhub.info/MitM/Foundation\"/><om:OMV name=\"anyu\"><metadata><link resource=\"http://mathhub.info/MitM/smglom/calculus/differentialequations#33.0.33:36.0.36\" rel=\"http://cds.omdoc.org/mmt?metadata?sourceRef\"/></metadata></om:OMV>\n",
       "      </om:OMA>\n",
       "      </om:OMA>\n",
       "      </om:OMBIND></om:OMOBJ></definition>\n",
       "       \n",
       "     </constant><constant name=\"myrhs\">\n",
       "       <metadata><link resource=\"http://mathhub.info/MitM/smglom/calculus/differentialequations#1.0.1:11.0.11\" rel=\"http://cds.omdoc.org/mmt?metadata?sourceRef\"/></metadata>\n",
       "       <type><om:OMOBJ xmlns:om=\"http://www.openmath.org/OpenMath\"><om:OMBIND>\n",
       "                 <om:OMS name=\"Pi\" module=\"LambdaPi\" base=\"http://cds.omdoc.org/urtheories\"/>\n",
       "                 <om:OMBVAR><om:OMV name=\"x\"><type><om:OMS name=\"&#937;\" module=\"ephdomain\" base=\"http://mathhub.info/MitM/smglom/calculus/differentialequations\"><metadata><link resource=\"http://mathhub.info/MitM/smglom/calculus/differentialequations#10.0.10:10.0.10\" rel=\"http://cds.omdoc.org/mmt?metadata?sourceRef\"/></metadata></om:OMS></type></om:OMV></om:OMBVAR>\n",
       "                 <om:OMS name=\"real_lit\" module=\"RealLiterals\" base=\"http://mathhub.info/MitM/Foundation\"><metadata><link resource=\"http://mathhub.info/MitM/Foundation/math.mmt#5516.174.20:5523.174.27\" rel=\"http://cds.omdoc.org/mmt?metadata?sourceRef\"/></metadata></om:OMS>\n",
       "      </om:OMBIND></om:OMOBJ></type>\n",
       "       <definition><om:OMOBJ xmlns:om=\"http://www.openmath.org/OpenMath\"><om:OMS name=\"f\" module=\"f\" base=\"http://mathhub.info/MitM/smglom/calculus/differentialequations\"><metadata><link resource=\"http://mathhub.info/MitM/smglom/calculus/differentialequations#10.0.10:10.0.10\" rel=\"http://cds.omdoc.org/mmt?metadata?sourceRef\"/></metadata></om:OMS></om:OMOBJ></definition>\n",
       "       \n",
       "     </constant>\n",
       "      </theory>\n",
       "  </xml>\n",
       "</result>\n",
       "\n",
       "\n",
       "\n",
       "\n",
       "These are all the PDEs needed.\n",
       "Let's discuss your boundary conditions. What do they look like? u(x) = f(x) or u(1.0) = \\alpha ?\n"
      ]
     },
     "metadata": {},
     "output_type": "display_data"
    }
   ],
   "source": [
    "\\kappa ⋅ Δu = f"
   ]
  },
  {
   "cell_type": "code",
   "execution_count": 10,
   "metadata": {},
   "outputs": [
    {
     "data": {
      "text/markdown": [
       "Ok \n",
       "\n",
       "\n",
       "\n",
       "These are all the boundary conditions needed.\n",
       "\n",
       "\n",
       "\n",
       "Do you know something about the operator κ ⋅ Δ? Is it e.g. linear, or not elliptic ? \n"
      ]
     },
     "metadata": {},
     "output_type": "display_data"
    }
   ],
   "source": [
    "u = f"
   ]
  },
  {
   "cell_type": "code",
   "execution_count": null,
   "metadata": {},
   "outputs": [],
   "source": [
    "omdoc"
   ]
  },
  {
   "cell_type": "code",
   "execution_count": 12,
   "metadata": {},
   "outputs": [
    {
     "data": {
      "text/markdown": [
       "OK!\n",
       "do you know anything else?\n"
      ]
     },
     "metadata": {},
     "output_type": "display_data"
    }
   ],
   "source": [
    "linear"
   ]
  },
  {
   "cell_type": "code",
   "execution_count": 13,
   "metadata": {},
   "outputs": [
    {
     "data": {
      "text/markdown": [
       "OK!\n",
       "do you know anything else?\n"
      ]
     },
     "metadata": {},
     "output_type": "display_data"
    }
   ],
   "source": [
    "elliptic"
   ]
  },
  {
   "cell_type": "code",
   "execution_count": 14,
   "metadata": {},
   "outputs": [
    {
     "data": {
      "text/markdown": [
       "\n",
       "\n",
       "\n",
       "These are the things we know so far about your problem:\n",
       "\n",
       "\n",
       "\n",
       "\n",
       "\n",
       "\n",
       "domain: {'name': 'Ω', 'theoryname': 'ephdomain', 'axes': OrderedDict([('x', '[0.0;1.0]')]), 'from': '0.0', 'to': '1.0', 'boundary_name': 'Ω', 'viewname': 'ephdomainASmDomain'}\n",
       "\n",
       "\n",
       "\n",
       "\n",
       "\n",
       "\n",
       "unknowns: OrderedDict([('u', {'theoryname': 'u', 'string': 'u : Ω ⟶ ℝ', 'type': 'Ω ⟶ ℝ', 'codomain': 'ℝ', 'viewname': 'uASmUnknown'})])\n",
       "\n",
       "\n",
       "\n",
       "\n",
       "\n",
       "\n",
       "parameters: OrderedDict([('f', {'theoryname': 'f', 'string': 'f = sin(x)', 'parsestring': 'f = [ x : Ω] sin(x)', 'type': '{ : Ω } ℝ', 'viewname': 'fASmParameter'}), ('k', {'theoryname': 'k', 'string': 'k = x ⋅ x', 'parsestring': 'k = [ x : Ω] x ⋅ x', 'type': '{ : Ω } ℝ', 'viewname': 'kASmParameter'})])\n",
       "\n",
       "\n",
       "\n",
       "\n",
       "\n",
       "\n",
       "pdes: {'pdes': [{'theoryname': 'ephemeral_pde1', 'string': 'κ ⋅ Δu = f', 'lhsstring': 'κ ⋅ Δu', 'rhsstring': 'f', 'rhsstring_expanded': 'sin(x)', 'viewname': 'ephemeral_pde1ASmPDE', 'op': 'κ ⋅ Δ', 'lhsparsestring': ' [ anyu : Ω ⟶ ℝ ] κ ⋅ Δ anyu ', 'rhsparsestring': ' f'}]}\n",
       "\n",
       "\n",
       "\n",
       "\n",
       "\n",
       "\n",
       "bcs: {'theoryname': 'ephbcs', 'bcs': [{'name': 'bc0', 'string': 'u = f', 'lhsstring': 'u', 'rhsstring': 'f', 'rhsstring_expanded': 'sin(x)', 'type': ('Dirichlet',), 'on': ('x',), 'measure': (2,)}], 'viewname': 'ephbcsASmBCsRequired', 'measure_given': 2}\n",
       "\n",
       "\n",
       "\n",
       "\n",
       "\n",
       "\n",
       "props: {'theoryname': 'ephBoundaryValueProblem', 'viewname': 'ephBoundaryValueProblemASmEllipticLinearDirichletBoundaryValueProblem', 'ops': [{'name': 'κ ⋅ Δ', 'props': ['elliptic'], 'linear': True}]}\n",
       "\n",
       "\n",
       "\n",
       "\n",
       "\n",
       "\n",
       "sim: {'type': None}\n",
       "\n",
       "\n",
       "\n",
       "\n",
       "\n",
       "\n",
       "You can inspect the persistently loaded MMT theories under http://localhost:9000\n",
       "## Solving\n",
       "\n",
       "\n",
       "\n",
       "Would you like to try and solve the PDE using the Finite Difference Method in ExaStencils? If yes, you can provide a configuration name, or we'll just use your name.\n"
      ]
     },
     "metadata": {},
     "output_type": "display_data"
    }
   ],
   "source": [
    "n"
   ]
  },
  {
   "cell_type": "code",
   "execution_count": null,
   "metadata": {},
   "outputs": [
    {
     "name": "stdout",
     "output_type": "stream",
     "text": [
      "Generated ExaStencils input; running ExaStencils\n",
      "Ran ExaStencils; preparing visualization\n"
     ]
    }
   ],
   "source": [
    "y"
   ]
  },
  {
   "cell_type": "code",
   "execution_count": 16,
   "metadata": {},
   "outputs": [
    {
     "data": {
      "text/html": [
       "\n",
       "            <iframe \n",
       "                src=\"http://localhost:9000/graphs/tgview.html?type=mpd&graphdata=http%3A%2F%2Fmathhub.info%2FMitM%2Fsmglom%2Fcalculus%2Fdifferentialequations%3FMPD_Model&highlight=MPD_pde%2A&viewOnlyMode=true\" \n",
       "                style=\"width: 100%; height: 510px; border: none\"\n",
       "            >\n",
       "            </iframe>\n",
       "        "
      ],
      "text/plain": [
       "<IPython.core.display.HTML object>"
      ]
     },
     "metadata": {},
     "output_type": "display_data"
    },
    {
     "data": {
      "text/markdown": []
     },
     "metadata": {},
     "output_type": "display_data"
    }
   ],
   "source": [
    "tgview mpd"
   ]
  },
  {
   "cell_type": "code",
   "execution_count": 17,
   "metadata": {},
   "outputs": [
    {
     "data": {
      "text/html": [
       "\n",
       "            <iframe \n",
       "                src=\"http://localhost:9000/graphs/tgview.html?type=pgraph&graphdata=http%3A%2F%2Fmathhub.info%2FMitM%2Fsmglom%2Fcalculus%2Fdifferentialequations&highlight=actual%2A%2Cephemeral%2A%2Cu%2Cq%2C%CE%B1%2CSHE&viewOnlyMode=true\" \n",
       "                style=\"width: 100%; height: 510px; border: none\"\n",
       "            >\n",
       "            </iframe>\n",
       "        "
      ],
      "text/plain": [
       "<IPython.core.display.HTML object>"
      ]
     },
     "metadata": {},
     "output_type": "display_data"
    },
    {
     "data": {
      "text/markdown": []
     },
     "metadata": {},
     "output_type": "display_data"
    }
   ],
   "source": [
    "tgview"
   ]
  },
  {
   "cell_type": "code",
   "execution_count": null,
   "metadata": {},
   "outputs": [],
   "source": []
  },
  {
   "cell_type": "code",
   "execution_count": null,
   "metadata": {},
   "outputs": [],
   "source": []
  }
 ],
 "metadata": {
  "kernelspec": {
   "display_name": "TheInterview",
   "language": "text",
   "name": "interview"
  },
  "language_info": {
   "file_extension": ".txt",
   "help_links": [
    {
     "text": "MetaKernel Magics",
     "url": "https://github.com/calysto/metakernel/blob/master/metakernel/magics/README.md"
    }
   ],
   "mimetype": "text/plain",
   "name": "text"
  }
 },
 "nbformat": 4,
 "nbformat_minor": 2
}
